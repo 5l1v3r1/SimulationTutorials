{
 "cells": [
  {
   "cell_type": "markdown",
   "metadata": {},
   "source": [
    "# Single neuron optimization contest\n",
    "____\n",
    "\n",
    "**We are pleased to invite you to take part in an exciting challenge: do better than us in optimizing the [Layer 5 cortical interneuron](http://celltypes.brain-map.org/mouse/experiment/electrophysiology/475049291?mode-toggle.x=50&mode-toggle.y=55).**\n",
    "\n",
    "** In order to do that, you will modify:**\n",
    "1. The **features** you want to optimize for.\n",
    "2. The **parameters** of the model.\n",
    "\n",
    "\n",
    "These are the rules and guidelines:\n",
    "1. You **can change the features** you want to optimize for, we will provide a list of the allowed ones.\n",
    "2. You are allowed to **change the model parameters**. You can use the number of fixed parameters that you want, but you should have at least four free parameters.\n",
    "3. You should **not copy** from the **\"orig_parameters.json\"** file.\n",
    "4. We suggest to run an optimisation for **8 generations**, with **10 individuals** (it takes about 10-11 minutes).\n",
    "5. You are encouraged to report any problems in the **[chat channel](https://gitter.im/BlueBrain/SimulationTutorials)** dedicated to this tutorial and also to discuss possible ways to solve the problem.   \n",
    "6. **Copy and paste the output** of the **last two cells** of this notebook in a **private chat** with [Elisabetta](https://gitter.im/elisabettai).\n",
    "7. Hint: **we will score** your model based on how much it **generalizes**.\n",
    "8. **Have fun** and win some **amazing prizes**."
   ]
  },
  {
   "cell_type": "markdown",
   "metadata": {},
   "source": [
    "First, run the cell below to **load the experimental data**:"
   ]
  },
  {
   "cell_type": "code",
   "execution_count": 1,
   "metadata": {
    "collapsed": false
   },
   "outputs": [
    {
     "name": "stdout",
     "output_type": "stream",
     "text": [
      "/Users/werner/src/SimulationTutorials/FENS2016/exercise\n",
      "modfiles/CaDynamics.mod modfiles/Ca_HVA.mod modfiles/Ca_LVA.mod modfiles/Ih.mod modfiles/Im.mod modfiles/Im_v2.mod modfiles/K_P.mod modfiles/K_T.mod modfiles/Kd.mod modfiles/Kv2like.mod modfiles/Kv3_1.mod modfiles/NaTa.mod modfiles/NaTs.mod modfiles/NaV.mod modfiles/Nap.mod modfiles/SK.mod\n",
      "CaDynamics.mod Ca_HVA.mod Ca_LVA.mod Ih.mod Im.mod Im_v2.mod K_P.mod K_T.mod Kd.mod Kv2like.mod Kv3_1.mod NaTa.mod NaTs.mod NaV.mod Nap.mod SK.mod\n",
      "\"/usr/local/Cellar/neuron/7.4/share/nrn/libtool\"  --mode=compile clang -DHAVE_CONFIG_H  -I. -I.. -I\"/usr/local/Cellar/neuron/7.4/include/nrn\" -I\"/usr/local/Cellar/neuron/7.4/libexec/lib\"      -g -O2 -c -o mod_func.lo mod_func.c\n",
      "libtool: compile:  clang -DHAVE_CONFIG_H -I. -I.. -I/usr/local/Cellar/neuron/7.4/include/nrn -I/usr/local/Cellar/neuron/7.4/libexec/lib -g -O2 -c mod_func.c  -fno-common -DPIC -o .libs/mod_func.o\n",
      "\"/usr/local/Cellar/neuron/7.4/share/nrn/libtool\"  --mode=link clang -module  -g -O2    -headerpad_max_install_names -o libnrnmech.la -rpath \"/usr/local/Cellar/neuron/7.4/libexec/lib\"  CaDynamics.lo Ca_HVA.lo Ca_LVA.lo Ih.lo Im.lo Im_v2.lo K_P.lo K_T.lo Kd.lo Kv2like.lo Kv3_1.lo NaTa.lo NaTs.lo NaV.lo Nap.lo SK.lo mod_func.lo  -L\"/usr/local/Cellar/neuron/7.4/libexec/lib\" -lnrnoc -loc -lmemacs -lnrnmpi -lscopmath -lsparse13 -lreadline -lncurses -L\"/usr/local/Cellar/neuron/7.4/libexec/lib\" \"/usr/local/Cellar/neuron/7.4/libexec/lib/libnrniv.la\" -livoc -lneuron_gnu -lmeschach -lsundials       \n",
      "libtool: link: rm -fr  .libs/libnrnmech.0.so .libs/libnrnmech.la .libs/libnrnmech.lai .libs/libnrnmech.so\n",
      "libtool: link: clang -Wl,-undefined -Wl,dynamic_lookup -o .libs/libnrnmech.0.so -bundle  .libs/CaDynamics.o .libs/Ca_HVA.o .libs/Ca_LVA.o .libs/Ih.o .libs/Im.o .libs/Im_v2.o .libs/K_P.o .libs/K_T.o .libs/Kd.o .libs/Kv2like.o .libs/Kv3_1.o .libs/NaTa.o .libs/NaTs.o .libs/NaV.o .libs/Nap.o .libs/SK.o .libs/mod_func.o   -L/usr/local/Cellar/neuron/7.4/libexec/lib /usr/local/Cellar/neuron/7.4/libexec/lib/libnrnoc.dylib /usr/local/Cellar/neuron/7.4/libexec/lib/liboc.dylib /usr/local/Cellar/neuron/7.4/libexec/lib/libmemacs.dylib /usr/local/Cellar/neuron/7.4/libexec/lib/libnrnmpi.dylib /usr/local/Cellar/neuron/7.4/libexec/lib/libscopmath.dylib /usr/local/Cellar/neuron/7.4/libexec/lib/libsparse13.dylib -lreadline -lncurses /usr/local/Cellar/neuron/7.4/libexec/lib/libnrniv.dylib /usr/local/Cellar/neuron/7.4/libexec/lib/libivoc.dylib /usr/local/Cellar/neuron/7.4/libexec/lib/libneuron_gnu.dylib /usr/local/Cellar/neuron/7.4/libexec/lib/libmeschach.dylib /usr/local/Cellar/neuron/7.4/libexec/lib/libsundials.dylib  -O2  \n",
      "libtool: link: (cd \".libs\" && rm -f \"libnrnmech.so\" && ln -s \"libnrnmech.0.so\" \"libnrnmech.so\")\n",
      "libtool: link: ( cd \".libs\" && rm -f \"libnrnmech.la\" && ln -s \"../libnrnmech.la\" \"libnrnmech.la\" )\n",
      "Successfully created x86_64/special\n"
     ]
    }
   ],
   "source": [
    "%load_ext autoreload\n",
    "%autoreload\n",
    "\n",
    "!nrnivmodl modfiles\n",
    "\n",
    "from allensdk.api.queries.biophysical_api import BiophysicalApi\n",
    "%matplotlib inline\n",
    "import matplotlib.pyplot as plt\n",
    "import collections\n",
    "\n",
    "import bluepyopt as bpopt\n",
    "import bluepyopt.ephys as ephys\n",
    "\n",
    "import numpy\n",
    "import json\n",
    "\n",
    "# Load the .nwb file containing the voltage traces\n",
    "from allensdk.core.nwb_data_set import NwbDataSet\n",
    "nwb_data = NwbDataSet('../ABI_model/data/475049288.nwb')\n",
    "\n",
    "# Store data in a dictionary step_name:sweep_num\n",
    "steps_dict = collections.OrderedDict(sorted({'StepNeg':23,'StepPos':36}.items(), key = lambda x:x[0]))\n",
    "\n",
    "def get_data(dataset,sweeps_dict):\n",
    "    # Correct for the liquid junction potential\n",
    "    junction_potential = -14\n",
    "    data = collections.OrderedDict()\n",
    "    for step, sweep in sweeps_dict.items():\n",
    "        sweep_data = {}\n",
    "        # Get sweep from NWB dataset\n",
    "        sweep = dataset.get_sweep(sweep)\n",
    "\n",
    "        # Get stimulus from the sweep\n",
    "        # stimulus = sweep['stimulus']\n",
    "\n",
    "        # Sampling rate is in Hz\n",
    "        sampling_rate = sweep['sampling_rate']\n",
    "        \n",
    "        # Start/stop indices that exclude the experimental test pulse (if applicable)\n",
    "        index_range = sweep['index_range']\n",
    "        \n",
    "        # Response is a numpy array in mV\n",
    "        sweep_data['V'] = sweep['response'][index_range[0]:index_range[1]]*1000+junction_potential    \n",
    "        \n",
    "        # Define some time points in milliseconds (i.e., convert to absolute time)\n",
    "        sweep_data['T'] = numpy.arange(0,(len(sweep_data['V'])/sampling_rate),1./sampling_rate)*1000\n",
    "        data[step] = sweep_data\n",
    "    return data\n",
    "\n",
    "data_dict = get_data(nwb_data, steps_dict)"
   ]
  },
  {
   "cell_type": "markdown",
   "metadata": {},
   "source": [
    "## 1. Define the features (modify code)\n",
    "\n",
    "Here is **list of features** you can choose from:\n",
    "\n",
    "**'AHP1_depth_from_peak', 'AHP_depth', 'AHP_depth_from_peak', 'AHP_slow_time', 'AHP_time_from_peak', 'AP1_amp', 'AP1_begin_voltage', 'AP1_begin_width', 'AP1_peak', 'AP1_width', 'AP2_AP1_diff', 'AP2_AP1_peak_diff', 'AP2_amp', 'AP2_begin_voltage', 'AP2_begin_width', 'AP2_peak', 'AP2_width', 'AP_amplitude', 'AP_amplitude_change', 'AP_amplitude_diff', 'AP_amplitude_from_voltagebase', 'AP_begin_voltage', 'AP_begin_width', 'AP_duration', Spikecount', 'adaptation_index', 'adaptation_index2', 'fast_AHP', 'min_AHP_values', 'min_voltage_between_spikes', 'minimum_voltage', 'peak_voltage','time_constant', 'time_to_first_spike','voltage_base', 'voltage_deflection', 'voltage_deflection_begin'***\n",
    "\n",
    "You can find a **documentation** for each of them **[here](http://bluebrain.github.io/eFEL/eFeatures.html#implemented-efeatures-to-be-continued)**. Once you have **chosen your features**, **insert them** in the code below. The list **\"pas_feature_names\"** containes the features you chose for the **negative current step**, while the **\"act_feature_names\"** is for the **positive current step**."
   ]
  },
  {
   "cell_type": "code",
   "execution_count": 2,
   "metadata": {
    "collapsed": true
   },
   "outputs": [],
   "source": [
    "# Insert here the list of features you want to extract from the negative stimulus\n",
    "pas_feature_names = ['time_constant','voltage_deflection_begin']\n",
    "\n",
    "# Insert here the list of features you want to extract from the negative stimulus\n",
    "act_feature_names = ['mean_frequency', 'AP_amplitude', 'fast_AHP','min_AHP_values', 'AP_duration']\n",
    "\n",
    "################################################################################"
   ]
  },
  {
   "cell_type": "markdown",
   "metadata": {},
   "source": [
    "After **executing the above cell** check the output of the **cell below** to see if the features names are correct."
   ]
  },
  {
   "cell_type": "code",
   "execution_count": 3,
   "metadata": {
    "collapsed": false
   },
   "outputs": [
    {
     "name": "stdout",
     "output_type": "stream",
     "text": [
      "The features for the negative step are: [u'time_constant', u'voltage_deflection_begin']\n",
      "The features for the positive step are: [u'AP_duration', u'mean_frequency', u'AP_amplitude', u'fast_AHP', u'min_AHP_values']\n"
     ]
    }
   ],
   "source": [
    "import efel\n",
    "\n",
    "def get_features(data):\n",
    "    \n",
    "    traces_pas = []\n",
    "    traces_act = []\n",
    "    for step_name, step_traces in data.items():\n",
    "        trace = {}\n",
    "        trace['T'] = data[step_name]['T']\n",
    "        trace['V'] = data[step_name]['V']\n",
    "        trace['stim_start'] = [270]\n",
    "        trace['stim_end'] = [1270]\n",
    "        trace['name'] = step_name\n",
    "    \n",
    "        if 'Pos' in step_name:\n",
    "            traces_act.append(trace)       \n",
    "        else:\n",
    "            traces_pas.append(trace)\n",
    "\n",
    "    features_values = efel.getMeanFeatureValues(traces_pas, pas_feature_names)\n",
    "    features_values_act = efel.getMeanFeatureValues(traces_act, act_feature_names) \n",
    "    features_values.extend(features_values_act)\n",
    "    return features_values\n",
    "\n",
    "efel_features = get_features(data_dict)\n",
    "\n",
    "# Write features mean values and std in a json file\n",
    "features_dict = collections.OrderedDict()\n",
    "for step_name, features in zip(steps_dict.iterkeys(), efel_features):\n",
    "    features_dict[step_name] = {\"soma\":{}}\n",
    "    for name, value in features.items():\n",
    "        features_dict[step_name][\"soma\"][name] = [value, abs(value*0.05)]    \n",
    "    \n",
    "with open('./config/features.json', 'w') as fp:\n",
    "    json.dump(features_dict, fp, indent = 4)\n",
    "    \n",
    "my_features = json.load(open('./config/features.json'))\n",
    "for step in my_features:\n",
    "    if step == 'StepNeg':\n",
    "        print \"The features for the negative step are: \" + str(my_features[step]['soma'].keys())\n",
    "    else:\n",
    "        print \"The features for the positive step are: \" + str(my_features[step]['soma'].keys())"
   ]
  },
  {
   "cell_type": "markdown",
   "metadata": {
    "collapsed": true
   },
   "source": [
    "# 2. Parameters (modify code)\n",
    "\n",
    "The **parameters** that you can modify are the **ion channel maximal conductances**. For each parameter you want to modify you need to **specify**:\n",
    "\n",
    "1. The **location** \"somatic\", \"basal\" (*i.e.* dendrites) or \"axonal\".\n",
    "2. The **name of the channels** (with the prefix 'gbar').\n",
    "3. The **value for the conductances**. It can be either a fixed value or a range [min, max], in the latter case it means that you want to optimize that value.\n",
    "\n",
    "**Not all combinations of 1) and 2) are possible**, but you should follow the initial distribution of the channels, that is:\n",
    "* somatic: 'g_pas', 'gbar_NaV', 'gbar_SK', 'gbar_Kv3_1', 'gbar_Ca_HVA', 'gbar_Ca_LVA', 'gbar_Ih'.\n",
    "* axonal: 'g_pas', 'gbar_NaV', 'gbar_K_T', 'gbar_Kd', 'gbar_Kv2like', 'gbar_Kv3_1', 'gbar_SK', 'gbar_Ca_HVA', 'gbar_Ca_LVA'.\n",
    "* basal: 'g_pas', 'gbar_NaV', 'gbar_Kv3_1', 'gbar_Im_v2', 'gbar_Ih'.\n",
    "\n",
    "If don't have any idea on how to choose the range for your free parameters, you can have look to the [\"Biophysical Modeling - All-active white paper\"](http://help.brain-map.org/download/attachments/8323525/BiophysModelAllActive.pdf?version=1&modificationDate=1456524876599), pag. 5, Table 2.\n",
    "\n",
    "In **the code below there is an example** on how to modify the conductance of the channel 'NaV' in the axonal sections, to a range value [1e-7, 0.1]. There is also a line for changing the 'Ih' conductance in the basal sections to a fixed value (7e-4). You can modify these two lines and add more, but **pay attention to the syntax**!\n"
   ]
  },
  {
   "cell_type": "code",
   "execution_count": 4,
   "metadata": {
    "collapsed": false
   },
   "outputs": [],
   "source": [
    "# Write here your parameters dictionary, following the syntax in the example.\n",
    "# You should not modify the keys 'new_section', 'new_mech_name', 'new_value'.\n",
    "\n",
    "my_pars = [\n",
    "{'new_section':'axonal', 'new_mech_name': 'gbar_NaV', 'new_value':[1e-7, 0.1]},\n",
    "{'new_section':'basal', 'new_mech_name': 'gbar_Ih', 'new_value': [7e-5]},\n",
    "{'new_section':'axonal', 'new_mech_name': 'gbar_Kv2like', 'new_value': [7e-5, 0.01]},\n",
    "{'new_section':'basal', 'new_mech_name': 'gbar_Im_v2', 'new_value': [0.01]}\n",
    "\n",
    "]\n",
    "\n",
    "############################################################################\n",
    "\n",
    "start_pars = json.load(open('config/parameters_start.json'))\n",
    "\n",
    "for my_dict in my_pars:\n",
    "    for old_dict in start_pars:\n",
    "        if old_dict['type'] != 'global':\n",
    "            if my_dict['new_section'] == old_dict['sectionlist'] and old_dict['param_name'] == my_dict['new_mech_name']:\n",
    "                old_dict['param_name'] = my_dict['new_mech_name']\n",
    "                if len(my_dict['new_value']) > 1:\n",
    "                    old_dict['bounds'] = my_dict['new_value']\n",
    "                    if 'value' in old_dict:\n",
    "                        old_dict.pop('value')\n",
    "                else:\n",
    "                    old_dict['value'] = my_dict['new_value'][0]\n",
    "                    if 'bounds' in start_pars:\n",
    "                        old_dict.pop('bounds')\n",
    "                    \n",
    "with open('./config/parameters.json', 'w') as fp:\n",
    "    json.dump(start_pars, fp, indent = 4)            "
   ]
  },
  {
   "cell_type": "markdown",
   "metadata": {},
   "source": [
    "**Run the following cell** to **check** if your **parameters** have been correctly set."
   ]
  },
  {
   "cell_type": "code",
   "execution_count": 5,
   "metadata": {
    "collapsed": false
   },
   "outputs": [
    {
     "name": "stdout",
     "output_type": "stream",
     "text": [
      "My fixed parameters are: [('gbar_Ih', [7e-05]), ('gbar_Im_v2', [0.01])]\n",
      "My free parameters are: [u'gbar_NaV.axonal', u'gbar_Kv2like.axonal']\n"
     ]
    }
   ],
   "source": [
    "import cell_model\n",
    "\n",
    "morphology_file = 'Sst-IRES-Cre_Ai14_IVSCC_-183332.05.02.01_486041253_m.swc'\n",
    "parameters = cell_model.define_parameters()\n",
    "morphology = ephys.morphologies.NrnFileMorphology(morphology_file, do_replace_axon=True)\n",
    "mechanisms = cell_model.define_mechanisms()\n",
    "abi_cell = ephys.models.CellModel('abi_cell', morph=morphology, mechs=mechanisms, params=parameters)\n",
    "\n",
    "param_names = [param.name for param in abi_cell.params.values() if not param.frozen]\n",
    "new_pars = json.load(open('config/parameters.json'))\n",
    "\n",
    "fixed_pars = []\n",
    "for my_dict in my_pars:\n",
    "    for old_dict in new_pars:\n",
    "        if old_dict['type'] != 'global':\n",
    "            if my_dict['new_section'] == old_dict['sectionlist'] and old_dict['param_name'] == my_dict['new_mech_name'] and len(my_dict['new_value']) == 1:\n",
    "                fixed_pars.append((my_dict['new_mech_name'], my_dict['new_value']))\n",
    "                \n",
    "print \"My fixed parameters are: \" + str(fixed_pars) \n",
    "print \"My free parameters are: \" + str(param_names)"
   ]
  },
  {
   "cell_type": "markdown",
   "metadata": {},
   "source": [
    "Set-up and run the optimisation. "
   ]
  },
  {
   "cell_type": "code",
   "execution_count": 6,
   "metadata": {
    "collapsed": false
   },
   "outputs": [
    {
     "name": "stdout",
     "output_type": "stream",
     "text": [
      "\n",
      "Run time in seconds: 296.783825159\n"
     ]
    }
   ],
   "source": [
    "num_gen = 8\n",
    "\n",
    "import cell_evaluator\n",
    "import pickle\n",
    "\n",
    "import sys\n",
    "    \n",
    "proto_configs = json.load(open('config/protocols.json'))\n",
    "fitness_protocols = cell_evaluator.define_protocols()\n",
    "\n",
    "# Set-up a simulation and a fitness calculator\n",
    "sim = ephys.simulators.NrnSimulator()\n",
    "fitness_calculator = cell_evaluator.define_fitness_calculator(fitness_protocols)\n",
    "\n",
    "evaluator = ephys.evaluators.CellEvaluator(                                          \n",
    "        cell_model=abi_cell,                                                       \n",
    "        param_names=param_names,                                                    \n",
    "        fitness_protocols=fitness_protocols,                                        \n",
    "        fitness_calculator=fitness_calculator,                                      \n",
    "        sim=sim)  \n",
    "\n",
    "# Run for 8 generations\n",
    "import time\n",
    "\n",
    "opt = bpopt.optimisations.DEAPOptimisation(                                     \n",
    "    evaluator=evaluator,                                                            \n",
    "    offspring_size=10) \n",
    "\n",
    "start = time.time()\n",
    "results = opt.run(max_ngen=num_gen, cp_filename='checkpoints/checkpoint_'+str(num_gen)+'.pkl')\n",
    "end = time.time()\n",
    "print \"\\nRun time in seconds: \" + str(end-start)"
   ]
  },
  {
   "cell_type": "markdown",
   "metadata": {},
   "source": [
    "Once the optimisation has finished, can you **visualise the results**:"
   ]
  },
  {
   "cell_type": "code",
   "execution_count": 7,
   "metadata": {
    "collapsed": false
   },
   "outputs": [
    {
     "name": "stderr",
     "output_type": "stream",
     "text": [
      "/usr/local/lib/python2.7/site-packages/matplotlib/figure.py:397: UserWarning: matplotlib is currently using a non-GUI backend, so cannot show the figure\n",
      "  \"matplotlib is currently using a non-GUI backend, \"\n"
     ]
    },
    {
     "name": "stdout",
     "output_type": "stream",
     "text": [
      "gen\tnevals\tavg    \tstd    \tmin    \tmax    \n",
      "1  \t10    \t285.539\t157.735\t43.9317\t389.064\n",
      "2  \t10    \t285.497\t157.829\t43.7749\t389.064\n",
      "3  \t10    \t148.982\t156.85 \t43.7119\t388.683\n",
      "4  \t10    \t148.451\t157.142\t43.7119\t388.709\n",
      "5  \t10    \t149.58 \t156.403\t43.8462\t388.45 \n",
      "6  \t10    \t65.7706\t74.3142\t43.8462\t388.225\n",
      "7  \t10    \t133.706\t147.165\t43.8462\t388.852\n",
      "8  \t10    \t52.4873\t7.84589\t43.8462\t61.3344\n"
     ]
    },
    {
     "data": {
      "image/png": "[encoded data removed]",
      "text/plain": [
       "<matplotlib.figure.Figure at 0x10bd9db10>"
      ]
     },
     "metadata": {},
     "output_type": "display_data"
    }
   ],
   "source": [
    "cp = pickle.load(open('checkpoints/checkpoint_'+str(num_gen)+'.pkl'))\n",
    "\n",
    "results = (cp['population'],\n",
    "        cp['halloffame'],\n",
    "        cp['logbook'],\n",
    "        cp['history'])\n",
    "\n",
    "pop, hall_of_fame, log, hist = results\n",
    "\n",
    "# And you directly visualize the resulting traces\n",
    "def plot_data(sweep_data, sweeps_list, model_responses = []):\n",
    "    junction_potential = -14\n",
    "    fig, axes = plt.subplots(len(sweeps_list), figsize=(10,10))\n",
    "    \n",
    "    for index, sweep, (resp_name, model) in zip(range(len(sweeps_list)),sweeps_list, sorted(model_responses.items())):\n",
    "        sweep = sweep_data.get_sweep(sweep)\n",
    "\n",
    "        # Get stimulus from the sweep\n",
    "        stimulus = sweep['stimulus']\n",
    "\n",
    "        # Sampling rate is in Hz\n",
    "        sampling_rate = sweep['sampling_rate']\n",
    "        \n",
    "        # Start/stop indices that exclude the experimental test pulse (if applicable)\n",
    "        index_range = sweep['index_range']\n",
    "        \n",
    "        # Response is a numpy array in Volts\n",
    "        response = sweep['response'][index_range[0]:index_range[1]]*1000    \n",
    "        \n",
    "        # Define some time points in seconds (i.e., convert to absolute time)\n",
    "        time_pts = numpy.arange(0,(len(response)/sampling_rate),1./sampling_rate)\n",
    "        \n",
    "        #func = interpolate.interp1d(time_pts, response, kind = 'quadratic')\n",
    "        axes[index].plot(time_pts, response+junction_potential, label = 'Data')\n",
    "        #axes[index].plot(time_pts+delay,stim)\n",
    "        axes[index].plot(model['time']/1000, model['voltage'], label = 'Model')\n",
    "       \n",
    "        axes[index].set_xlim([0.0, 1.54])\n",
    "        axes[index].set_xlabel(\"Time (s)\")\n",
    "        axes[index].set_ylabel(\"Voltage (mV)\")\n",
    "        #axes[index].set_title(resp_name)\n",
    "        axes[index].legend(loc='best')\n",
    "    fig.show()\n",
    "\n",
    "# Plot responses of the best individual\n",
    "best_params = evaluator.param_dict(hall_of_fame[0])\n",
    "best_responses = evaluator.run_protocols(protocols=fitness_protocols.values(), param_values=best_params)\n",
    "\n",
    "plot_data(nwb_data,[23, 36],best_responses)\n",
    "print log\n"
   ]
  },
  {
   "cell_type": "markdown",
   "metadata": {},
   "source": [
    "# 3. Send your results"
   ]
  },
  {
   "cell_type": "markdown",
   "metadata": {},
   "source": [
    "Once you are happy with your result, **send** the output of the **two cells below** to **[Elisabetta](https://gitter.im/elisabettai)**."
   ]
  },
  {
   "cell_type": "code",
   "execution_count": 8,
   "metadata": {
    "collapsed": false
   },
   "outputs": [
    {
     "name": "stdout",
     "output_type": "stream",
     "text": [
      "{u'Ra.axonal': 100.799,\n",
      " u'Ra.basal': 50.8833,\n",
      " u'Ra.somatic': 72.0757,\n",
      " u'celsius': 34,\n",
      " u'cm.axonal': 7.6668,\n",
      " u'cm.basal': 1.4357,\n",
      " u'cm.somatic': 2.1356,\n",
      " u'decay_CaDynamics.axonal': 811.497,\n",
      " u'decay_CaDynamics.somatic': 326.442,\n",
      " u'e_pas.axonal': -71.1766,\n",
      " u'e_pas.basal': -62.7085,\n",
      " u'e_pas.somatic': -63.3146,\n",
      " u'ek.all': -107,\n",
      " u'ena.all': 53.0,\n",
      " u'g_pas.axonal': 0.00200656,\n",
      " u'g_pas.basal': 1.10433e-07,\n",
      " u'g_pas.somatic': 7.60303e-05,\n",
      " u'gamma_CaDynamics.axonal': 0.0477399,\n",
      " u'gamma_CaDynamics.somatic': 0.00169922,\n",
      " u'gbar_Ca_HVA.axonal': 3.83558e-05,\n",
      " u'gbar_Ca_HVA.somatic': 5.9455e-05,\n",
      " u'gbar_Ca_LVA.axonal': 0.00775489,\n",
      " u'gbar_Ca_LVA.somatic': 0.0060162,\n",
      " u'gbar_Ih.basal': 7e-05,\n",
      " u'gbar_Ih.somatic': 3.46139e-06,\n",
      " u'gbar_Im_v2.basal': 0.01,\n",
      " u'gbar_K_T.axonal': 0.0013593,\n",
      " u'gbar_Kd.axonal': 0.00833495,\n",
      " u'gbar_Kv2like.axonal': 0.004970523780681963,\n",
      " u'gbar_Kv3_1.axonal': 0.0100065,\n",
      " u'gbar_Kv3_1.basal': 0.205458,\n",
      " u'gbar_Kv3_1.somatic': 0.7294,\n",
      " u'gbar_NaV.axonal': 0.01243901497054983,\n",
      " u'gbar_NaV.basal': 0.0205486,\n",
      " u'gbar_NaV.somatic': 0.04595,\n",
      " u'gbar_SK.axonal': 0.00661877,\n",
      " u'gbar_SK.somatic': 0.0001051137,\n",
      " u'v_init': -81}\n"
     ]
    }
   ],
   "source": [
    "import pprint\n",
    "\n",
    "frozen_pars = [param.name for param in abi_cell.params.values() if param.frozen]\n",
    "for name in frozen_pars:\n",
    "    best_params[name] = abi_cell.params[name].value\n",
    "    \n",
    "pprint.pprint(best_params)   "
   ]
  },
  {
   "cell_type": "code",
   "execution_count": 9,
   "metadata": {
    "collapsed": false
   },
   "outputs": [
    {
     "name": "stdout",
     "output_type": "stream",
     "text": [
      "The features for the negative step are: [u'time_constant', u'voltage_deflection_begin']\n",
      "The features for the positive step are: [u'AP_duration', u'mean_frequency', u'AP_amplitude', u'fast_AHP', u'min_AHP_values']\n"
     ]
    }
   ],
   "source": [
    "# Once you are happy with your result, send us the output of this cell\n",
    "my_features = json.load(open('./config/features.json'))\n",
    "for step in my_features:\n",
    "    if step == 'StepNeg':\n",
    "        print \"The features for the negative step are: \" + str(my_features[step]['soma'].keys())\n",
    "    else:\n",
    "        print \"The features for the positive step are: \" + str(my_features[step]['soma'].keys())"
   ]
  }
 ],
 "metadata": {
  "kernelspec": {
   "display_name": "Python 2",
   "language": "python",
   "name": "python2"
  },
  "language_info": {
   "codemirror_mode": {
    "name": "ipython",
    "version": 2
   },
   "file_extension": ".py",
   "mimetype": "text/x-python",
   "name": "python",
   "nbconvert_exporter": "python",
   "pygments_lexer": "ipython2",
   "version": "2.7.11"
  }
 },
 "nbformat": 4,
 "nbformat_minor": 0
}
