{
 "cells": [
  {
   "cell_type": "code",
   "execution_count": 1,
   "metadata": {
    "collapsed": false
   },
   "outputs": [
    {
     "name": "stdout",
     "output_type": "stream",
     "text": [
      "/Users/iavarone/BBP/SimulationTutorials/FENS2016/scoring\n",
      "modfiles/CaDynamics.mod modfiles/Ca_HVA.mod modfiles/Ca_LVA.mod modfiles/Ih.mod modfiles/Im.mod modfiles/Im_v2.mod modfiles/K_P.mod modfiles/K_T.mod modfiles/Kd.mod modfiles/Kv2like.mod modfiles/Kv3_1.mod modfiles/NaTa.mod modfiles/NaTs.mod modfiles/NaV.mod modfiles/Nap.mod modfiles/SK.mod\n",
      "CaDynamics.mod Ca_HVA.mod Ca_LVA.mod Ih.mod Im.mod Im_v2.mod K_P.mod K_T.mod Kd.mod Kv2like.mod Kv3_1.mod NaTa.mod NaTs.mod NaV.mod Nap.mod SK.mod\n",
      "\"/Applications/NEURON-7.4/nrn/share/nrn/libtool\" --tag=CC --mode=compile gcc -DHAVE_CONFIG_H  -I. -I.. -I\"/Applications/NEURON-7.4/nrn/include/nrn\" -I\"/Applications/NEURON-7.4/nrn/x86_64/lib\"      -g -O2 -c -o mod_func.lo mod_func.c\n",
      "libtool: compile:  gcc -DHAVE_CONFIG_H -I. -I.. -I/Applications/NEURON-7.4/nrn/include/nrn -I/Applications/NEURON-7.4/nrn/x86_64/lib -g -O2 -c mod_func.c  -fno-common -DPIC -o .libs/mod_func.o\n",
      "\"/Applications/NEURON-7.4/nrn/share/nrn/libtool\" --tag=CC --mode=link gcc -module  -g -O2    -headerpad_max_install_names -o libnrnmech.la -rpath \"/Applications/NEURON-7.4/nrn/x86_64/lib\"  CaDynamics.lo Ca_HVA.lo Ca_LVA.lo Ih.lo Im.lo Im_v2.lo K_P.lo K_T.lo Kd.lo Kv2like.lo Kv3_1.lo NaTa.lo NaTs.lo NaV.lo Nap.lo SK.lo mod_func.lo  -L\"/Applications/NEURON-7.4/nrn/x86_64/lib\" -lnrnoc -loc -lmemacs  -lscopmath -lsparse13 -lreadline -lncurses -L\"/Applications/NEURON-7.4/nrn/x86_64/lib\" \"/Applications/NEURON-7.4/nrn/x86_64/lib/libnrniv.la\" -livoc -lneuron_gnu -lmeschach -lsundials       \n",
      "libtool: link: rm -fr  .libs/libnrnmech.0.so .libs/libnrnmech.la .libs/libnrnmech.lai .libs/libnrnmech.so\n",
      "libtool: link: gcc -Wl,-undefined -Wl,dynamic_lookup -o .libs/libnrnmech.0.so -bundle  .libs/CaDynamics.o .libs/Ca_HVA.o .libs/Ca_LVA.o .libs/Ih.o .libs/Im.o .libs/Im_v2.o .libs/K_P.o .libs/K_T.o .libs/Kd.o .libs/Kv2like.o .libs/Kv3_1.o .libs/NaTa.o .libs/NaTs.o .libs/NaV.o .libs/Nap.o .libs/SK.o .libs/mod_func.o   -L/Applications/NEURON-7.4/nrn/x86_64/lib /Applications/NEURON-7.4/nrn/x86_64/lib/libnrnoc.dylib /Applications/NEURON-7.4/nrn/x86_64/lib/liboc.dylib -L/usr/X11/lib -lX11 /Applications/NEURON-7.4/nrn/x86_64/lib/libmemacs.dylib /Applications/NEURON-7.4/nrn/x86_64/lib/libscopmath.dylib /Applications/NEURON-7.4/nrn/x86_64/lib/libsparse13.dylib -lreadline -lncurses /Applications/NEURON-7.4/nrn/x86_64/lib/libnrniv.dylib /Applications/NEURON-7.4/nrn/x86_64/lib/libivoc.dylib /Applications/NEURON-7.4/nrn/x86_64/lib/libneuron_gnu.dylib /Applications/NEURON-7.4/nrn/x86_64/lib/libmeschach.dylib /Applications/NEURON-7.4/nrn/x86_64/lib/libsundials.dylib   \n",
      "libtool: link: (cd \".libs\" && rm -f \"libnrnmech.so\" && ln -s \"libnrnmech.0.so\" \"libnrnmech.so\")\n",
      "libtool: link: ( cd \".libs\" && rm -f \"libnrnmech.la\" && ln -s \"../libnrnmech.la\" \"libnrnmech.la\" )\n",
      "Successfully created x86_64/special\n"
     ]
    }
   ],
   "source": [
    "\"\"\"\n",
    "Insert all the feature names\n",
    "\"\"\"\n",
    "\n",
    "!nrnivmodl modfiles\n",
    "all_features = {'StepNeg': set(['time_constant', u'time_constant', u'voltage_deflection_begin',\n",
    "                               'voltage_deflection_begin'\n",
    "                               ]),            \n",
    "            \n",
    "                'StepPos':set(['mean_frequency', 'AP_amplitude',\n",
    "                               u'AP_duration', u'mean_frequency', u'AP_amplitude', u'fast_AHP', u'min_AHP_values'\n",
    "        \n",
    "                              ])}"
   ]
  },
  {
   "cell_type": "code",
   "execution_count": 2,
   "metadata": {
    "collapsed": false
   },
   "outputs": [],
   "source": [
    "%load_ext autoreload\n",
    "%autoreload\n",
    "\n",
    "from allensdk.api.queries.biophysical_api import BiophysicalApi\n",
    "%matplotlib notebook\n",
    "import matplotlib.pyplot as plt\n",
    "import collections\n",
    "\n",
    "import bluepyopt as bpopt\n",
    "import bluepyopt.ephys as ephys\n",
    "\n",
    "import numpy\n",
    "import json\n",
    "\n",
    "import efel\n",
    "\n",
    "import cell_model\n",
    "import cell_evaluator\n",
    "\n",
    "# Load the .nwb file containing the voltage traces\n",
    "from allensdk.core.nwb_data_set import NwbDataSet\n",
    "nwb_data = NwbDataSet('../ABI_model/data/475049288.nwb')\n",
    "\n",
    "# Store data in a dictionary step_name:sweep_num\n",
    "steps_dict = collections.OrderedDict(sorted({'StepNeg':23,'StepPos':36}.items(), key = lambda x:x[0]))\n",
    "\n",
    "def get_data(dataset,sweeps_dict):\n",
    "    # Correct for the liquid junction potential\n",
    "    junction_potential = -14\n",
    "    data = collections.OrderedDict()\n",
    "    for step, sweep in sweeps_dict.items():\n",
    "        sweep_data = {}\n",
    "        # Get sweep from NWB dataset\n",
    "        sweep = dataset.get_sweep(sweep)\n",
    "\n",
    "        # Get stimulus from the sweep\n",
    "        # stimulus = sweep['stimulus']\n",
    "\n",
    "        # Sampling rate is in Hz\n",
    "        sampling_rate = sweep['sampling_rate']\n",
    "        \n",
    "        # Start/stop indices that exclude the experimental test pulse (if applicable)\n",
    "        index_range = sweep['index_range']\n",
    "        \n",
    "        # Response is a numpy array in mV\n",
    "        sweep_data['V'] = sweep['response'][index_range[0]:index_range[1]]*1000+junction_potential    \n",
    "        \n",
    "        # Define some time points in milliseconds (i.e., convert to absolute time)\n",
    "        sweep_data['T'] = numpy.arange(0,(len(sweep_data['V'])/sampling_rate),1./sampling_rate)*1000\n",
    "        data[step] = sweep_data\n",
    "    return data\n",
    "\n",
    "data_dict = get_data(nwb_data, steps_dict)\n",
    "\n",
    "# Extract features\n",
    "    \n",
    "import efel\n",
    "def get_features(data, feature_names):\n",
    "    \n",
    "    traces_pas = []\n",
    "    traces_act = []\n",
    "    for step_name, step_traces in data.items():\n",
    "        trace = {}\n",
    "        trace['T'] = data[step_name]['T']\n",
    "        trace['V'] = data[step_name]['V']\n",
    "        trace['stim_start'] = [270]\n",
    "        trace['stim_end'] = [1270]\n",
    "        trace['name'] = step_name\n",
    "    \n",
    "        if 'Pos' in step_name:\n",
    "            traces_act.append(trace)       \n",
    "        else:\n",
    "            traces_pas.append(trace)\n",
    "            \n",
    "    features_values = efel.getMeanFeatureValues(traces_pas, feature_names['StepNeg'])\n",
    "    features_values_act = efel.getMeanFeatureValues(traces_act, feature_names['StepPos']) \n",
    "    \n",
    "    features_values.extend(features_values_act)\n",
    "    return features_values\n",
    "\n",
    "efel_features = get_features(data_dict, all_features)\n",
    "\n",
    "# Write features mean values and std in a json file\n",
    "features_dict = collections.OrderedDict()\n",
    "for step_name, features in zip(steps_dict.iterkeys(), efel_features):\n",
    "    features_dict[step_name] = {\"soma\":{}}\n",
    "    for name, value in features.items():\n",
    "        features_dict[step_name][\"soma\"][name] = [value, abs(value*0.05)]    \n",
    "    \n",
    "with open('./config/features.json', 'w') as fp:\n",
    "    json.dump(features_dict, fp, indent = 4)"
   ]
  },
  {
   "cell_type": "code",
   "execution_count": 4,
   "metadata": {
    "collapsed": false
   },
   "outputs": [
    {
     "name": "stdout",
     "output_type": "stream",
     "text": [
      "\n",
      "Sum of all feature values: 43.7749045872\n",
      "Average of the feature values: 6.25355779818\n",
      "Evaluated 1 of 1 students.\n"
     ]
    }
   ],
   "source": [
    "# Score a student's dictionary of parameters\n",
    "\n",
    "students_params = {\n",
    "'me6': {u'Ra.axonal': 100.799,\n",
    " u'Ra.basal': 50.8833,\n",
    " u'Ra.somatic': 72.0757,\n",
    " u'celsius': 34,\n",
    " u'cm.axonal': 7.6668,\n",
    " u'cm.basal': 1.4357,\n",
    " u'cm.somatic': 2.1356,\n",
    " u'decay_CaDynamics.axonal': 811.497,\n",
    " u'decay_CaDynamics.somatic': 326.442,\n",
    " u'e_pas.axonal': -71.1766,\n",
    " u'e_pas.basal': -62.7085,\n",
    " u'e_pas.somatic': -63.3146,\n",
    " u'ek.all': -107,\n",
    " u'ena.all': 53.0,\n",
    " u'g_pas.axonal': 0.00200656,\n",
    " u'g_pas.basal': 1.10433e-07,\n",
    " u'g_pas.somatic': 7.60303e-05,\n",
    " u'gamma_CaDynamics.axonal': 0.0477399,\n",
    " u'gamma_CaDynamics.somatic': 0.00169922,\n",
    " u'gbar_Ca_HVA.axonal': 3.83558e-05,\n",
    " u'gbar_Ca_HVA.somatic': 5.9455e-05,\n",
    " u'gbar_Ca_LVA.axonal': 0.00775489,\n",
    " u'gbar_Ca_LVA.somatic': 0.0060162,\n",
    " u'gbar_Ih.basal': 7e-05,\n",
    " u'gbar_Ih.somatic': 3.46139e-06,\n",
    " u'gbar_Im_v2.basal': 0.01,\n",
    " u'gbar_K_T.axonal': 0.0013593,\n",
    " u'gbar_Kd.axonal': 0.00833495,\n",
    " u'gbar_Kv2like.axonal': 0.0038677845936285135,\n",
    " u'gbar_Kv3_1.axonal': 0.0100065,\n",
    " u'gbar_Kv3_1.basal': 0.205458,\n",
    " u'gbar_Kv3_1.somatic': 0.7294,\n",
    " u'gbar_NaV.axonal': 0.012359011690009868,\n",
    " u'gbar_NaV.basal': 0.0205486,\n",
    " u'gbar_NaV.somatic': 0.04595,\n",
    " u'gbar_SK.axonal': 0.00661877,\n",
    " u'gbar_SK.somatic': 0.0001051137,\n",
    " u'v_init': -81}\n",
    "                  }\n",
    "\n",
    "results_dict = {} \n",
    "def score_all(all_params_dict):\n",
    "    count = 0\n",
    "    for name, params in all_params_dict.items():\n",
    "        param_file = 'students_par/parameters_'+str(name)+'.json'\n",
    "        with open(param_file, 'w+') as fp:\n",
    "            json.dump(params, fp, indent = 4)\n",
    "        \n",
    "        param_configs = json.load(open(param_file))\n",
    "        parameters = cell_model.define_parameters()\n",
    "\n",
    "        morphology_file = 'Sst-IRES-Cre_Ai14_IVSCC_-183332.05.02.01_486041253_m.swc'\n",
    "        morphology = ephys.morphologies.NrnFileMorphology(morphology_file, do_replace_axon=True)\n",
    "\n",
    "        # Define mechanisms\n",
    "        mechanisms = cell_model.define_mechanisms()\n",
    "\n",
    "        # Create cell model\n",
    "        abi_cell = ephys.models.CellModel('abi_cell', morph=morphology, mechs=mechanisms, params=parameters)\n",
    "\n",
    "        # Define protocols\n",
    "        proto_configs = json.load(open('config/protocols.json'))\n",
    "        fitness_protocols = cell_evaluator.define_protocols()\n",
    "\n",
    "        # Set-up a simulation and a fitness calculator\n",
    "        sim = ephys.simulators.NrnSimulator()\n",
    "        fitness_calculator = cell_evaluator.define_fitness_calculator(fitness_protocols)\n",
    "\n",
    "        abi_cell.unfreeze(abi_cell.params)\n",
    "        evaluator = ephys.evaluators.CellEvaluator(                                          \n",
    "                cell_model=abi_cell,                                                       \n",
    "                param_names=[],                                                    \n",
    "                fitness_protocols=fitness_protocols,                                        \n",
    "                fitness_calculator=fitness_calculator,                                      \n",
    "                sim=sim)  \n",
    "\n",
    "        student_responses = evaluator.run_protocols(protocols=fitness_protocols.values(), param_values = params)\n",
    "\n",
    "        scores =  fitness_calculator.calculate_scores(student_responses)\n",
    "        sum = numpy.sum([value for value in scores.values()])\n",
    "        avg = numpy.mean([value for value in scores.values()])\n",
    "\n",
    "        print \"\\nSum of all feature values: \" + str(sum)\n",
    "        print \"Average of the feature values: \" + str(avg)\n",
    "\n",
    "        results_dict[name] = [sum, avg]\n",
    "        \n",
    "        count+=1\n",
    "        \n",
    "        print \"Evaluated %d of %d students.\" % (count, len(students_params))\n",
    "        \n",
    "score_all(students_params)"
   ]
  },
  {
   "cell_type": "code",
   "execution_count": 5,
   "metadata": {
    "collapsed": false
   },
   "outputs": [
    {
     "name": "stdout",
     "output_type": "stream",
     "text": [
      "\n",
      "The winner is ... \n",
      ".......................................\n",
      ".......................................\n",
      ".......................................\n"
     ]
    }
   ],
   "source": [
    "sorted_results = sorted(results_dict.items(), key=lambda i: i[1][0])\n",
    "\n",
    "print \"\\nThe winner is ... \\n.......................................\\n.......................................\\n.......................................\""
   ]
  },
  {
   "cell_type": "code",
   "execution_count": 6,
   "metadata": {
    "collapsed": false
   },
   "outputs": [
    {
     "name": "stdout",
     "output_type": "stream",
     "text": [
      "\n",
      "me6\n",
      "\n",
      "With a final error of 43.\n"
     ]
    }
   ],
   "source": [
    "print \"\\n\"+str(sorted_results[0][0])\n",
    "\n",
    "print \"\\nWith a final error of %d.\" % sorted_results[0][1][0]"
   ]
  },
  {
   "cell_type": "code",
   "execution_count": 7,
   "metadata": {
    "collapsed": false
   },
   "outputs": [
    {
     "name": "stdout",
     "output_type": "stream",
     "text": [
      "\n",
      "All scores...\n",
      "\n",
      "me6 43.7749045872\n"
     ]
    }
   ],
   "source": [
    "print \"\\nAll scores...\\n\"\n",
    "for result in sorted_results:\n",
    "    print result[0], result[1][0]"
   ]
  },
  {
   "cell_type": "code",
   "execution_count": 11,
   "metadata": {
    "collapsed": false
   },
   "outputs": [
    {
     "ename": "Exception",
     "evalue": "Traceback (most recent call last):\n  File \"/Library/Python/2.7/site-packages/bluepyopt/ephys/protocols.py\", line 109, in _run_func\n    cell_model.freeze(param_values)\n  File \"/Library/Python/2.7/site-packages/bluepyopt/ephys/models.py\", line 99, in freeze\n    for param_name, param_value in param_dict.items():\nAttributeError: 'list' object has no attribute 'items'\n",
     "output_type": "error",
     "traceback": [
      "\u001b[0;31m---------------------------------------------------------------------------\u001b[0m",
      "\u001b[0;31mException\u001b[0m                                 Traceback (most recent call last)",
      "\u001b[0;32m<ipython-input-11-ac27596fbb93>\u001b[0m in \u001b[0;36m<module>\u001b[0;34m()\u001b[0m\n\u001b[1;32m     68\u001b[0m \u001b[0;34m\u001b[0m\u001b[0m\n\u001b[1;32m     69\u001b[0m \u001b[0;34m\u001b[0m\u001b[0m\n\u001b[0;32m---> 70\u001b[0;31m \u001b[0mwinner_responses\u001b[0m \u001b[0;34m=\u001b[0m \u001b[0mevaluator\u001b[0m\u001b[0;34m.\u001b[0m\u001b[0mrun_protocols\u001b[0m\u001b[0;34m(\u001b[0m\u001b[0mprotocols\u001b[0m\u001b[0;34m=\u001b[0m\u001b[0mfitness_protocols\u001b[0m\u001b[0;34m.\u001b[0m\u001b[0mvalues\u001b[0m\u001b[0;34m(\u001b[0m\u001b[0;34m)\u001b[0m\u001b[0;34m,\u001b[0m \u001b[0mparam_values\u001b[0m \u001b[0;34m=\u001b[0m \u001b[0mparameters\u001b[0m\u001b[0;34m)\u001b[0m\u001b[0;34m\u001b[0m\u001b[0m\n\u001b[0m\u001b[1;32m     71\u001b[0m \u001b[0;34m\u001b[0m\u001b[0m\n\u001b[1;32m     72\u001b[0m \u001b[0;34m\u001b[0m\u001b[0m\n",
      "\u001b[0;32m/Library/Python/2.7/site-packages/bluepyopt/ephys/evaluators.pyc\u001b[0m in \u001b[0;36mrun_protocols\u001b[0;34m(self, protocols, param_values)\u001b[0m\n\u001b[1;32m    117\u001b[0m                 \u001b[0mprotocol\u001b[0m\u001b[0;34m,\u001b[0m\u001b[0;34m\u001b[0m\u001b[0m\n\u001b[1;32m    118\u001b[0m                 \u001b[0mparam_values\u001b[0m\u001b[0;34m=\u001b[0m\u001b[0mparam_values\u001b[0m\u001b[0;34m,\u001b[0m\u001b[0;34m\u001b[0m\u001b[0m\n\u001b[0;32m--> 119\u001b[0;31m                 isolate=self.isolate_protocols))\n\u001b[0m\u001b[1;32m    120\u001b[0m \u001b[0;34m\u001b[0m\u001b[0m\n\u001b[1;32m    121\u001b[0m         \u001b[0;32mreturn\u001b[0m \u001b[0mresponses\u001b[0m\u001b[0;34m\u001b[0m\u001b[0m\n",
      "\u001b[0;32m/Library/Python/2.7/site-packages/bluepyopt/ephys/evaluators.pyc\u001b[0m in \u001b[0;36mrun_protocol\u001b[0;34m(self, protocol, param_values, isolate)\u001b[0m\n\u001b[1;32m    106\u001b[0m             \u001b[0mparam_values\u001b[0m\u001b[0;34m,\u001b[0m\u001b[0;34m\u001b[0m\u001b[0m\n\u001b[1;32m    107\u001b[0m             \u001b[0msim\u001b[0m\u001b[0;34m=\u001b[0m\u001b[0mself\u001b[0m\u001b[0;34m.\u001b[0m\u001b[0msim\u001b[0m\u001b[0;34m,\u001b[0m\u001b[0;34m\u001b[0m\u001b[0m\n\u001b[0;32m--> 108\u001b[0;31m             isolate=isolate)\n\u001b[0m\u001b[1;32m    109\u001b[0m \u001b[0;34m\u001b[0m\u001b[0m\n\u001b[1;32m    110\u001b[0m     \u001b[0;32mdef\u001b[0m \u001b[0mrun_protocols\u001b[0m\u001b[0;34m(\u001b[0m\u001b[0mself\u001b[0m\u001b[0;34m,\u001b[0m \u001b[0mprotocols\u001b[0m\u001b[0;34m,\u001b[0m \u001b[0mparam_values\u001b[0m\u001b[0;34m)\u001b[0m\u001b[0;34m:\u001b[0m\u001b[0;34m\u001b[0m\u001b[0m\n",
      "\u001b[0;32m/Library/Python/2.7/site-packages/bluepyopt/ephys/protocols.pyc\u001b[0m in \u001b[0;36mrun\u001b[0;34m(self, cell_model, param_values, sim, isolate)\u001b[0m\n\u001b[1;32m    163\u001b[0m                     \u001b[0;34m'cell_model'\u001b[0m\u001b[0;34m:\u001b[0m \u001b[0mcell_model\u001b[0m\u001b[0;34m,\u001b[0m\u001b[0;34m\u001b[0m\u001b[0m\n\u001b[1;32m    164\u001b[0m                     \u001b[0;34m'param_values'\u001b[0m\u001b[0;34m:\u001b[0m \u001b[0mparam_values\u001b[0m\u001b[0;34m,\u001b[0m\u001b[0;34m\u001b[0m\u001b[0m\n\u001b[0;32m--> 165\u001b[0;31m                     'sim': sim})\n\u001b[0m\u001b[1;32m    166\u001b[0m \u001b[0;34m\u001b[0m\u001b[0m\n\u001b[1;32m    167\u001b[0m             \u001b[0mpool\u001b[0m\u001b[0;34m.\u001b[0m\u001b[0mterminate\u001b[0m\u001b[0;34m(\u001b[0m\u001b[0;34m)\u001b[0m\u001b[0;34m\u001b[0m\u001b[0m\n",
      "\u001b[0;32m/System/Library/Frameworks/Python.framework/Versions/2.7/lib/python2.7/multiprocessing/pool.pyc\u001b[0m in \u001b[0;36mapply\u001b[0;34m(self, func, args, kwds)\u001b[0m\n\u001b[1;32m    242\u001b[0m         '''\n\u001b[1;32m    243\u001b[0m         \u001b[0;32massert\u001b[0m \u001b[0mself\u001b[0m\u001b[0;34m.\u001b[0m\u001b[0m_state\u001b[0m \u001b[0;34m==\u001b[0m \u001b[0mRUN\u001b[0m\u001b[0;34m\u001b[0m\u001b[0m\n\u001b[0;32m--> 244\u001b[0;31m         \u001b[0;32mreturn\u001b[0m \u001b[0mself\u001b[0m\u001b[0;34m.\u001b[0m\u001b[0mapply_async\u001b[0m\u001b[0;34m(\u001b[0m\u001b[0mfunc\u001b[0m\u001b[0;34m,\u001b[0m \u001b[0margs\u001b[0m\u001b[0;34m,\u001b[0m \u001b[0mkwds\u001b[0m\u001b[0;34m)\u001b[0m\u001b[0;34m.\u001b[0m\u001b[0mget\u001b[0m\u001b[0;34m(\u001b[0m\u001b[0;34m)\u001b[0m\u001b[0;34m\u001b[0m\u001b[0m\n\u001b[0m\u001b[1;32m    245\u001b[0m \u001b[0;34m\u001b[0m\u001b[0m\n\u001b[1;32m    246\u001b[0m     \u001b[0;32mdef\u001b[0m \u001b[0mmap\u001b[0m\u001b[0;34m(\u001b[0m\u001b[0mself\u001b[0m\u001b[0;34m,\u001b[0m \u001b[0mfunc\u001b[0m\u001b[0;34m,\u001b[0m \u001b[0miterable\u001b[0m\u001b[0;34m,\u001b[0m \u001b[0mchunksize\u001b[0m\u001b[0;34m=\u001b[0m\u001b[0mNone\u001b[0m\u001b[0;34m)\u001b[0m\u001b[0;34m:\u001b[0m\u001b[0;34m\u001b[0m\u001b[0m\n",
      "\u001b[0;32m/System/Library/Frameworks/Python.framework/Versions/2.7/lib/python2.7/multiprocessing/pool.pyc\u001b[0m in \u001b[0;36mget\u001b[0;34m(self, timeout)\u001b[0m\n\u001b[1;32m    565\u001b[0m             \u001b[0;32mreturn\u001b[0m \u001b[0mself\u001b[0m\u001b[0;34m.\u001b[0m\u001b[0m_value\u001b[0m\u001b[0;34m\u001b[0m\u001b[0m\n\u001b[1;32m    566\u001b[0m         \u001b[0;32melse\u001b[0m\u001b[0;34m:\u001b[0m\u001b[0;34m\u001b[0m\u001b[0m\n\u001b[0;32m--> 567\u001b[0;31m             \u001b[0;32mraise\u001b[0m \u001b[0mself\u001b[0m\u001b[0;34m.\u001b[0m\u001b[0m_value\u001b[0m\u001b[0;34m\u001b[0m\u001b[0m\n\u001b[0m\u001b[1;32m    568\u001b[0m \u001b[0;34m\u001b[0m\u001b[0m\n\u001b[1;32m    569\u001b[0m     \u001b[0;32mdef\u001b[0m \u001b[0m_set\u001b[0m\u001b[0;34m(\u001b[0m\u001b[0mself\u001b[0m\u001b[0;34m,\u001b[0m \u001b[0mi\u001b[0m\u001b[0;34m,\u001b[0m \u001b[0mobj\u001b[0m\u001b[0;34m)\u001b[0m\u001b[0;34m:\u001b[0m\u001b[0;34m\u001b[0m\u001b[0m\n",
      "\u001b[0;31mException\u001b[0m: Traceback (most recent call last):\n  File \"/Library/Python/2.7/site-packages/bluepyopt/ephys/protocols.py\", line 109, in _run_func\n    cell_model.freeze(param_values)\n  File \"/Library/Python/2.7/site-packages/bluepyopt/ephys/models.py\", line 99, in freeze\n    for param_name, param_value in param_dict.items():\nAttributeError: 'list' object has no attribute 'items'\n"
     ]
    }
   ],
   "source": [
    "# Plot traces from the winner\n",
    "\n",
    "def plot_data(sweep_data, sweeps_list, model_responses = []):\n",
    "    junction_potential = -14\n",
    "    fig, axes = plt.subplots(len(sweeps_list), figsize=(10,10))\n",
    "    \n",
    "    for index, sweep, (resp_name, model) in zip(range(len(sweeps_list)),sweeps_list, sorted(model_responses.items())):\n",
    "        sweep = sweep_data.get_sweep(sweep)\n",
    "\n",
    "        # Get stimulus from the sweep\n",
    "        stimulus = sweep['stimulus']\n",
    "\n",
    "        # Sampling rate is in Hz\n",
    "        sampling_rate = sweep['sampling_rate']\n",
    "        \n",
    "        # Start/stop indices that exclude the experimental test pulse (if applicable)\n",
    "        index_range = sweep['index_range']\n",
    "        \n",
    "        # Response is a numpy array in Volts\n",
    "        response = sweep['response'][index_range[0]:index_range[1]]*1000    \n",
    "        \n",
    "        # Define some time points in seconds (i.e., convert to absolute time)\n",
    "        time_pts = numpy.arange(0,(len(response)/sampling_rate),1./sampling_rate)\n",
    "        \n",
    "        #func = interpolate.interp1d(time_pts, response, kind = 'quadratic')\n",
    "        axes[index].plot(time_pts, response+junction_potential, label = 'Data')\n",
    "        #axes[index].plot(time_pts+delay,stim)\n",
    "        axes[index].plot(model['time']/1000, model['voltage'], label = 'Model')\n",
    "       \n",
    "        axes[index].set_xlim([0.0, 1.54])\n",
    "        axes[index].set_xlabel(\"Time (s)\")\n",
    "        axes[index].set_ylabel(\"Voltage (mV)\")\n",
    "        #axes[index].set_title(resp_name)\n",
    "        axes[index].legend(loc='best')\n",
    "    fig.show()\n",
    "    \n",
    "    \n",
    "    \n",
    "winner_params = json.load(open('students_par/parameters_'+str(result[0])+'.json'))\n",
    "parameters = cell_model.define_parameters()\n",
    "\n",
    "morphology_file = 'Sst-IRES-Cre_Ai14_IVSCC_-183332.05.02.01_486041253_m.swc'\n",
    "morphology = ephys.morphologies.NrnFileMorphology(morphology_file, do_replace_axon=True)\n",
    "\n",
    "# Define mechanisms\n",
    "mechanisms = cell_model.define_mechanisms()\n",
    "\n",
    "# Create cell model\n",
    "abi_cell = ephys.models.CellModel('abi_cell', morph=morphology, mechs=mechanisms, params=parameters)\n",
    "\n",
    "# Define protocols\n",
    "proto_configs = json.load(open('config/protocols.json'))\n",
    "fitness_protocols = cell_evaluator.define_protocols()\n",
    "\n",
    "# Set-up a simulation and a fitness calculator\n",
    "sim = ephys.simulators.NrnSimulator()\n",
    "fitness_calculator = cell_evaluator.define_fitness_calculator(fitness_protocols)\n",
    "\n",
    "abi_cell.unfreeze(abi_cell.params)\n",
    "evaluator = ephys.evaluators.CellEvaluator(                                          \n",
    "                cell_model=abi_cell,                                                       \n",
    "                param_names=[],                                                    \n",
    "                fitness_protocols=fitness_protocols,                                        \n",
    "                fitness_calculator=fitness_calculator,                                      \n",
    "                sim=sim)  \n",
    "\n",
    "\n",
    "\n",
    "\n",
    "winner_responses = evaluator.run_protocols(protocols=fitness_protocols.values(), param_values = parameters)\n",
    "\n",
    "\n",
    "\n",
    "plot_data(nwb_data,[23, 36],winner_responses)\n"
   ]
  },
  {
   "cell_type": "code",
   "execution_count": null,
   "metadata": {
    "collapsed": true
   },
   "outputs": [],
   "source": []
  }
 ],
 "metadata": {
  "kernelspec": {
   "display_name": "Python 2",
   "language": "python",
   "name": "python2"
  },
  "language_info": {
   "codemirror_mode": {
    "name": "ipython",
    "version": 2
   },
   "file_extension": ".py",
   "mimetype": "text/x-python",
   "name": "python",
   "nbconvert_exporter": "python",
   "pygments_lexer": "ipython2",
   "version": "2.7.10"
  }
 },
 "nbformat": 4,
 "nbformat_minor": 0
}
