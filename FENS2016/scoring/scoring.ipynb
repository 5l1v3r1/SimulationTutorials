{
 "cells": [
  {
   "cell_type": "code",
   "execution_count": 1,
   "metadata": {
    "collapsed": false
   },
   "outputs": [
    {
     "name": "stdout",
     "output_type": "stream",
     "text": [
      "/home/iavarone/BBP/fens2016/SimulationTutorials/FENS2016/scoring\n",
      "modfiles/CaDynamics.mod modfiles/Ca_HVA.mod modfiles/Ca_LVA.mod modfiles/Ih.mod modfiles/Im.mod modfiles/Im_v2.mod modfiles/K_P.mod modfiles/K_T.mod modfiles/Kd.mod modfiles/Kv2like.mod modfiles/Kv3_1.mod modfiles/NaTa.mod modfiles/NaTs.mod modfiles/NaV.mod modfiles/Nap.mod modfiles/SK.mod\n",
      "CaDynamics.mod Ca_HVA.mod Ca_LVA.mod Ih.mod Im.mod Im_v2.mod K_P.mod K_T.mod Kd.mod Kv2like.mod Kv3_1.mod NaTa.mod NaTs.mod NaV.mod Nap.mod SK.mod\n",
      "\"/home/iavarone/neuron/nrn/share/nrn/libtool\" --tag=CC --mode=compile mpicc -DHAVE_CONFIG_H  -I. -I.. -I\"/home/iavarone/neuron/nrn/include/nrn\" -I\"/home/iavarone/neuron/nrn/x86_64/lib\"      -g -O2 -c -o mod_func.lo mod_func.c\n",
      "libtool: compile:  mpicc -DHAVE_CONFIG_H -I. -I.. -I/home/iavarone/neuron/nrn/include/nrn -I/home/iavarone/neuron/nrn/x86_64/lib -g -O2 -c mod_func.c  -fPIC -DPIC -o .libs/mod_func.o\n",
      "\"/home/iavarone/neuron/nrn/share/nrn/libtool\" --tag=CC --mode=link mpicc -module  -g -O2    -o libnrnmech.la -rpath \"/home/iavarone/neuron/nrn/x86_64/lib\"  CaDynamics.lo Ca_HVA.lo Ca_LVA.lo Ih.lo Im.lo Im_v2.lo K_P.lo K_T.lo Kd.lo Kv2like.lo Kv3_1.lo NaTa.lo NaTs.lo NaV.lo Nap.lo SK.lo mod_func.lo  -L\"/home/iavarone/neuron/nrn/x86_64/lib\" -lnrnoc -loc -lmemacs -lnrnmpi -lscopmath -lsparse13 -lreadline -lncurses -L\"/home/iavarone/neuron/nrn/x86_64/lib\" \"/home/iavarone/neuron/nrn/x86_64/lib/libnrniv.la\" -livoc -lneuron_gnu -lmeschach -lsundials       -lm -ldl\n",
      "libtool: link: rm -fr  .libs/libnrnmech.la .libs/libnrnmech.lai .libs/libnrnmech.so .libs/libnrnmech.so.0 .libs/libnrnmech.so.0.0.0\n",
      "libtool: link: mpicc -shared  -fPIC -DPIC  .libs/CaDynamics.o .libs/Ca_HVA.o .libs/Ca_LVA.o .libs/Ih.o .libs/Im.o .libs/Im_v2.o .libs/K_P.o .libs/K_T.o .libs/Kd.o .libs/Kv2like.o .libs/Kv3_1.o .libs/NaTa.o .libs/NaTs.o .libs/NaV.o .libs/Nap.o .libs/SK.o .libs/mod_func.o   -Wl,-rpath -Wl,/home/iavarone/neuron/nrn/x86_64/lib -Wl,-rpath -Wl,/home/iavarone/neuron/nrn/x86_64/lib -L/home/iavarone/neuron/nrn/x86_64/lib /home/iavarone/neuron/nrn/x86_64/lib/libnrnoc.so /home/iavarone/neuron/nrn/x86_64/lib/liboc.so /home/iavarone/neuron/nrn/x86_64/lib/libmemacs.so /home/iavarone/neuron/nrn/x86_64/lib/libnrnmpi.so /home/iavarone/neuron/nrn/x86_64/lib/libscopmath.so /home/iavarone/neuron/nrn/x86_64/lib/libsparse13.so /home/iavarone/neuron/nrn/x86_64/lib/libreadline.so -lncurses /home/iavarone/neuron/nrn/x86_64/lib/libnrniv.so /home/iavarone/neuron/nrn/x86_64/lib/libivoc.so /home/iavarone/neuron/nrn/x86_64/lib/libneuron_gnu.so /home/iavarone/neuron/nrn/x86_64/lib/libmeschach.so /home/iavarone/neuron/nrn/x86_64/lib/libsundials.so -lm -ldl  -O2   -Wl,-soname -Wl,libnrnmech.so.0 -o .libs/libnrnmech.so.0.0.0\n",
      "libtool: link: (cd \".libs\" && rm -f \"libnrnmech.so.0\" && ln -s \"libnrnmech.so.0.0.0\" \"libnrnmech.so.0\")\n",
      "libtool: link: (cd \".libs\" && rm -f \"libnrnmech.so\" && ln -s \"libnrnmech.so.0.0.0\" \"libnrnmech.so\")\n",
      "libtool: link: ( cd \".libs\" && rm -f \"libnrnmech.la\" && ln -s \"../libnrnmech.la\" \"libnrnmech.la\" )\n",
      "Successfully created x86_64/special\n"
     ]
    }
   ],
   "source": [
    "\"\"\"\n",
    "Insert all the feature names\n",
    "\"\"\"\n",
    "\n",
    "!nrnivmodl modfiles\n",
    "all_features = {'StepNeg': set(['time_constant', u'time_constant', u'voltage_deflection_begin',\n",
    "                               'voltage_deflection_begin'\n",
    "                               ]),            \n",
    "            \n",
    "                'StepPos':set(['mean_frequency', 'AP_amplitude'\n",
    "                              \n",
    "                              ])}"
   ]
  },
  {
   "cell_type": "code",
   "execution_count": 2,
   "metadata": {
    "collapsed": false
   },
   "outputs": [],
   "source": [
    "%load_ext autoreload\n",
    "%autoreload\n",
    "\n",
    "from allensdk.api.queries.biophysical_api import BiophysicalApi\n",
    "%matplotlib notebook\n",
    "import matplotlib.pyplot as plt\n",
    "import collections\n",
    "\n",
    "import bluepyopt as bpopt\n",
    "import bluepyopt.ephys as ephys\n",
    "\n",
    "import numpy\n",
    "import json\n",
    "\n",
    "import efel\n",
    "\n",
    "import cell_model\n",
    "import cell_evaluator\n",
    "\n",
    "# Load the .nwb file containing the voltage traces\n",
    "from allensdk.core.nwb_data_set import NwbDataSet\n",
    "nwb_data = NwbDataSet('../ABI_model/data/475049288.nwb')\n",
    "\n",
    "# Store data in a dictionary step_name:sweep_num\n",
    "steps_dict = collections.OrderedDict(sorted({'StepNeg':23,'StepPos':36}.items(), key = lambda x:x[0]))\n",
    "\n",
    "def get_data(dataset,sweeps_dict):\n",
    "    # Correct for the liquid junction potential\n",
    "    junction_potential = -14\n",
    "    data = collections.OrderedDict()\n",
    "    for step, sweep in sweeps_dict.items():\n",
    "        sweep_data = {}\n",
    "        # Get sweep from NWB dataset\n",
    "        sweep = dataset.get_sweep(sweep)\n",
    "\n",
    "        # Get stimulus from the sweep\n",
    "        # stimulus = sweep['stimulus']\n",
    "\n",
    "        # Sampling rate is in Hz\n",
    "        sampling_rate = sweep['sampling_rate']\n",
    "        \n",
    "        # Start/stop indices that exclude the experimental test pulse (if applicable)\n",
    "        index_range = sweep['index_range']\n",
    "        \n",
    "        # Response is a numpy array in mV\n",
    "        sweep_data['V'] = sweep['response'][index_range[0]:index_range[1]]*1000+junction_potential    \n",
    "        \n",
    "        # Define some time points in milliseconds (i.e., convert to absolute time)\n",
    "        sweep_data['T'] = numpy.arange(0,(len(sweep_data['V'])/sampling_rate),1./sampling_rate)*1000\n",
    "        data[step] = sweep_data\n",
    "    return data\n",
    "\n",
    "data_dict = get_data(nwb_data, steps_dict)\n",
    "\n",
    "# Extract features\n",
    "    \n",
    "import efel\n",
    "def get_features(data, feature_names):\n",
    "    \n",
    "    traces_pas = []\n",
    "    traces_act = []\n",
    "    for step_name, step_traces in data.items():\n",
    "        trace = {}\n",
    "        trace['T'] = data[step_name]['T']\n",
    "        trace['V'] = data[step_name]['V']\n",
    "        trace['stim_start'] = [270]\n",
    "        trace['stim_end'] = [1270]\n",
    "        trace['name'] = step_name\n",
    "    \n",
    "        if 'Pos' in step_name:\n",
    "            traces_act.append(trace)       \n",
    "        else:\n",
    "            traces_pas.append(trace)\n",
    "            \n",
    "    features_values = efel.getMeanFeatureValues(traces_pas, feature_names['StepNeg'])\n",
    "    features_values_act = efel.getMeanFeatureValues(traces_act, feature_names['StepPos']) \n",
    "    \n",
    "    features_values.extend(features_values_act)\n",
    "    return features_values\n",
    "\n",
    "efel_features = get_features(data_dict, all_features)\n",
    "\n",
    "# Write features mean values and std in a json file\n",
    "features_dict = collections.OrderedDict()\n",
    "for step_name, features in zip(steps_dict.iterkeys(), efel_features):\n",
    "    features_dict[step_name] = {\"soma\":{}}\n",
    "    for name, value in features.items():\n",
    "        features_dict[step_name][\"soma\"][name] = [value, abs(value*0.05)]    \n",
    "    \n",
    "with open('./config/features.json', 'w') as fp:\n",
    "    json.dump(features_dict, fp, indent = 4)"
   ]
  },
  {
   "cell_type": "code",
   "execution_count": 12,
   "metadata": {
    "collapsed": false
   },
   "outputs": [
    {
     "name": "stdout",
     "output_type": "stream",
     "text": [
      "\n",
      "Sum of all feature values: 523.840031111\n",
      "Average of the feature values: 130.960007778\n",
      "Evaluated 1 of 4 students.\n",
      "\n",
      "Sum of all feature values: 23.4759148057\n",
      "Average of the feature values: 5.86897870144\n",
      "Evaluated 2 of 4 students.\n",
      "\n",
      "Sum of all feature values: 523.873707566\n",
      "Average of the feature values: 130.968426891\n",
      "Evaluated 3 of 4 students.\n",
      "\n",
      "Sum of all feature values: 520.352684096\n",
      "Average of the feature values: 130.088171024\n",
      "Evaluated 4 of 4 students.\n"
     ]
    }
   ],
   "source": [
    "# Score a student's dictionary of parameters\n",
    "students_params = {'me1': {u'ek.all': -107, u'e_pas.somatic': -63.3146, u'Ra.basal': 50.8833, \n",
    "               u'gbar_Kv3_1.axonal': 0.0100065, u'gbar_NaV.basal': 0.0205486, \n",
    "               u'gbar_Kv3_1.basal': 0.205458, u'e_pas.basal': -62.7085, \n",
    "               u'gbar_K_T.axonal': 0.004327727402343744, u'gamma_CaDynamics.somatic': \n",
    "               0.00169922, u'v_init': -81, u'cm.basal': 0.6721357746112606, \n",
    "               u'gbar_Ca_HVA.axonal': 3.83558e-05, u'gbar_NaV.somatic': 0.03811402789488886, \n",
    "               u'gbar_Kv2like.axonal': 0.0010615, u'gbar_Ca_LVA.somatic': 0.0060162, \n",
    "               u'gbar_Im_v2.basal': 0.00949979, u'gbar_SK.somatic': 0.0001051137, \n",
    "               u'g_pas.basal': 1.10433e-07, u'ena.all': 53.0, u'g_pas.axonal': 0.00200656, \n",
    "               u'gamma_CaDynamics.axonal': 0.0477399, u'gbar_SK.axonal': 0.00661877, \n",
    "               u'cm.axonal': 1.301052033032655, u'gbar_Ca_HVA.somatic': 5.9455e-05, \n",
    "               u'gbar_Kd.axonal': 0.00833495, u'gbar_Ih.basal': 0.0007, u'gbar_Ca_LVA.axonal': \n",
    "               0.00775489, u'Ra.somatic': 72.0757, u'e_pas.axonal': -71.1766, u'gbar_NaV.axonal': \n",
    "               0.08357652681547659, u'decay_CaDynamics.axonal': 811.497, u'cm.somatic': \n",
    "               7.9717441709009265, u'gbar_Ih.somatic': 3.46139e-06, \n",
    "               u'celsius': 34, u'Ra.axonal': 100.799, u'gbar_Kv3_1.somatic': 0.0021061531405053577, \n",
    "               u'decay_CaDynamics.somatic': 326.442, u'g_pas.somatic': 7.60303e-05},\n",
    "'me2': {u'ek.all': -107, u'e_pas.somatic': -63.3146, u'Ra.basal': 50.8833, \n",
    "               u'gbar_Kv3_1.axonal': 0.0100065, u'gbar_NaV.basal': 0.0205486, \n",
    "               u'gbar_Kv3_1.basal': 0.205458, u'e_pas.basal': -62.7085, \n",
    "               u'gbar_K_T.axonal': 0.004327727402343744, u'gamma_CaDynamics.somatic': \n",
    "               0.00169922, u'v_init': -81, u'cm.basal': 0.6721357746112606, \n",
    "               u'gbar_Ca_HVA.axonal': 3.83558e-05, u'gbar_NaV.somatic': 0.03811402789488886, \n",
    "               u'gbar_Kv2like.axonal': 0.0010615, u'gbar_Ca_LVA.somatic': 0.0060162, \n",
    "               u'gbar_Im_v2.basal': 0.1, u'gbar_SK.somatic': 0.0001051137, \n",
    "               u'g_pas.basal': 1.10433e-07, u'ena.all': 53.0, u'g_pas.axonal': 0.00200656, \n",
    "               u'gamma_CaDynamics.axonal': 0.0477399, u'gbar_SK.axonal': 0.00661877, \n",
    "               u'cm.axonal': 1.301052033032655, u'gbar_Ca_HVA.somatic': 5.9455e-05, \n",
    "               u'gbar_Kd.axonal': 0.00833495, u'gbar_Ih.basal': 0.0007, u'gbar_Ca_LVA.axonal': \n",
    "               0.00775489, u'Ra.somatic': 72.0757, u'e_pas.axonal': -71.1766, u'gbar_NaV.axonal': \n",
    "               0.08357652681547659, u'decay_CaDynamics.axonal': 811.497, u'cm.somatic': \n",
    "               7.9717441709009265, u'gbar_Ih.somatic': 3.46139e-06, \n",
    "               u'celsius': 34, u'Ra.axonal': 100.799, u'gbar_Kv3_1.somatic': 0.0021061531405053577, \n",
    "               u'decay_CaDynamics.somatic': 326.442, u'g_pas.somatic': 7.60303e-05},\n",
    "'me3': {u'ek.all': -107, u'e_pas.somatic': -63.3146, u'Ra.basal': 50.8833, \n",
    "               u'gbar_Kv3_1.axonal': 0.0100065, u'gbar_NaV.basal': 0.0205486, \n",
    "               u'gbar_Kv3_1.basal': 0.205458, u'e_pas.basal': -62.7085, \n",
    "               u'gbar_K_T.axonal': 0.004327727402343744, u'gamma_CaDynamics.somatic': \n",
    "               0.00169922, u'v_init': -81, u'cm.basal': 0.6721357746112606, \n",
    "               u'gbar_Ca_HVA.axonal': 3.83558e-05, u'gbar_NaV.somatic': 0.03811402789488886, \n",
    "               u'gbar_Kv2like.axonal': 0.0010615, u'gbar_Ca_LVA.somatic': 0.0060162, \n",
    "               u'gbar_Im_v2.basal': 0.3, u'gbar_SK.somatic': 0.0001051137, \n",
    "               u'g_pas.basal': 1.10433e-07, u'ena.all': 53.0, u'g_pas.axonal': 0.00200656, \n",
    "               u'gamma_CaDynamics.axonal': 0.0477399, u'gbar_SK.axonal': 0.00661877, \n",
    "               u'cm.axonal': 1.301052033032655, u'gbar_Ca_HVA.somatic': 5.9455e-05, \n",
    "               u'gbar_Kd.axonal': 0.00833495, u'gbar_Ih.basal': 0.0007, u'gbar_Ca_LVA.axonal': \n",
    "               0.00775489, u'Ra.somatic': 72.0757, u'e_pas.axonal': -71.1766, u'gbar_NaV.axonal': \n",
    "               0.08357652681547659, u'decay_CaDynamics.axonal': 811.497, u'cm.somatic': \n",
    "               7.9717441709009265, u'gbar_Ih.somatic': 3.46139e-06, \n",
    "               u'celsius': 34, u'Ra.axonal': 100.799, u'gbar_Kv3_1.somatic': 0.0021061531405053577, \n",
    "               u'decay_CaDynamics.somatic': 326.442, u'g_pas.somatic': 7.60303e-05},\n",
    "'me4': {u'ek.all': -107, u'e_pas.somatic': -63.3146, u'Ra.basal': 50.8833, \n",
    "               u'gbar_Kv3_1.axonal': 0.0100065, u'gbar_NaV.basal': 0.1, \n",
    "               u'gbar_Kv3_1.basal': 0.205458, u'e_pas.basal': -62.7085, \n",
    "               u'gbar_K_T.axonal': 0.004327727402343744, u'gamma_CaDynamics.somatic': \n",
    "               0.00169922, u'v_init': -81, u'cm.basal': 0.6721357746112606, \n",
    "               u'gbar_Ca_HVA.axonal': 3.83558e-05, u'gbar_NaV.somatic': 0.03811402789488886, \n",
    "               u'gbar_Kv2like.axonal': 0.0010615, u'gbar_Ca_LVA.somatic': 0.0060162, \n",
    "               u'gbar_Im_v2.basal': 0.3, u'gbar_SK.somatic': 0.0001051137, \n",
    "               u'g_pas.basal': 1.10433e-07, u'ena.all': 53.0, u'g_pas.axonal': 0.00200656, \n",
    "               u'gamma_CaDynamics.axonal': 0.0477399, u'gbar_SK.axonal': 0.00661877, \n",
    "               u'cm.axonal': 1.301052033032655, u'gbar_Ca_HVA.somatic': 5.9455e-05, \n",
    "               u'gbar_Kd.axonal': 0.00833495, u'gbar_Ih.basal': 0.0007, u'gbar_Ca_LVA.axonal': \n",
    "               0.00775489, u'Ra.somatic': 72.0757, u'e_pas.axonal': -71.1766, u'gbar_NaV.axonal': \n",
    "               0.08357652681547659, u'decay_CaDynamics.axonal': 811.497, u'cm.somatic': \n",
    "               7.9717441709009265, u'gbar_Ih.somatic': 3.46139e-06, \n",
    "               u'celsius': 34, u'Ra.axonal': 100.799, u'gbar_Kv3_1.somatic': 0.0021061531405053577, \n",
    "               u'decay_CaDynamics.somatic': 326.442, u'g_pas.somatic': 7.60303e-05}}\n",
    "\n",
    "results_dict = {} \n",
    "def score_all(all_params_dict):\n",
    "    count = 0\n",
    "    for name, params in all_params_dict.items():\n",
    "        param_file = 'students_par/parameters_'+str(name)+'.json'\n",
    "        with open(param_file, 'w+') as fp:\n",
    "            json.dump(params, fp)\n",
    "        \n",
    "        param_configs = json.load(open(param_file))\n",
    "        parameters = cell_model.define_parameters()\n",
    "\n",
    "        morphology_file = 'Sst-IRES-Cre_Ai14_IVSCC_-183332.05.02.01_486041253_m.swc'\n",
    "        morphology = ephys.morphologies.NrnFileMorphology(morphology_file, do_replace_axon=True)\n",
    "\n",
    "        # Define mechanisms\n",
    "        mechanisms = cell_model.define_mechanisms()\n",
    "\n",
    "        # Create cell model\n",
    "        abi_cell = ephys.models.CellModel('abi_cell', morph=morphology, mechs=mechanisms, params=parameters)\n",
    "\n",
    "        # Define protocols\n",
    "        proto_configs = json.load(open('config/protocols.json'))\n",
    "        fitness_protocols = cell_evaluator.define_protocols()\n",
    "\n",
    "        # Set-up a simulation and a fitness calculator\n",
    "        sim = ephys.simulators.NrnSimulator()\n",
    "        fitness_calculator = cell_evaluator.define_fitness_calculator(fitness_protocols)\n",
    "\n",
    "        abi_cell.unfreeze(abi_cell.params)\n",
    "        evaluator = ephys.evaluators.CellEvaluator(                                          \n",
    "                cell_model=abi_cell,                                                       \n",
    "                param_names=[],                                                    \n",
    "                fitness_protocols=fitness_protocols,                                        \n",
    "                fitness_calculator=fitness_calculator,                                      \n",
    "                sim=sim)  \n",
    "\n",
    "        student_responses = evaluator.run_protocols(protocols=fitness_protocols.values(), param_values = params)\n",
    "\n",
    "        scores =  fitness_calculator.calculate_scores(student_responses)\n",
    "        sum = numpy.sum([value for value in scores.values()])\n",
    "        avg = numpy.mean([value for value in scores.values()])\n",
    "\n",
    "        print \"\\nSum of all feature values: \" + str(sum)\n",
    "        print \"Average of the feature values: \" + str(avg)\n",
    "\n",
    "        results_dict[name] = [sum, avg]\n",
    "        \n",
    "        count+=1\n",
    "        \n",
    "        print \"Evaluated %d of %d students.\" % (count, len(students_params))\n",
    "        \n",
    "score_all(students_params)"
   ]
  },
  {
   "cell_type": "code",
   "execution_count": 32,
   "metadata": {
    "collapsed": false
   },
   "outputs": [
    {
     "name": "stdout",
     "output_type": "stream",
     "text": [
      "\n",
      " The winner is ... \n",
      ".......................................\n",
      ".......................................\n",
      ".......................................\n"
     ]
    }
   ],
   "source": [
    "sorted_results = sorted(results_dict.items(), key=lambda i: i[1][0])\n",
    "\n",
    "print \"\\n The winner is ... \\n.......................................\\n.......................................\\n.......................................\""
   ]
  },
  {
   "cell_type": "code",
   "execution_count": 40,
   "metadata": {
    "collapsed": false
   },
   "outputs": [
    {
     "name": "stdout",
     "output_type": "stream",
     "text": [
      "\n",
      "me1\n",
      "\n",
      "With a final error of 23.\n"
     ]
    }
   ],
   "source": [
    "print \"\\n\"+str(sorted_results[0][0])\n",
    "\n",
    "print \"\\nWith a final error of %d.\" % sorted_results[0][1][0]"
   ]
  },
  {
   "cell_type": "code",
   "execution_count": 45,
   "metadata": {
    "collapsed": false
   },
   "outputs": [
    {
     "name": "stdout",
     "output_type": "stream",
     "text": [
      "\n",
      "All scores...\n",
      "\n",
      "me1 23.4759148057\n",
      "me2 520.352684096\n",
      "me4 523.840031111\n",
      "me3 523.873707566\n"
     ]
    }
   ],
   "source": [
    "print \"\\nAll scores...\\n\"\n",
    "for result in sorted_results:\n",
    "    print result[0], result[1][0]"
   ]
  }
 ],
 "metadata": {
  "kernelspec": {
   "display_name": "Python 2",
   "language": "python",
   "name": "python2"
  },
  "language_info": {
   "codemirror_mode": {
    "name": "ipython",
    "version": 2
   },
   "file_extension": ".py",
   "mimetype": "text/x-python",
   "name": "python",
   "nbconvert_exporter": "python",
   "pygments_lexer": "ipython2",
   "version": "2.7.6"
  }
 },
 "nbformat": 4,
 "nbformat_minor": 0
}
