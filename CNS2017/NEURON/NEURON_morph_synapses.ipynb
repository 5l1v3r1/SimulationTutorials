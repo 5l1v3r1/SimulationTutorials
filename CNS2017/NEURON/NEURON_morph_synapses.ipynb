{
 "cells": [
  {
   "cell_type": "markdown",
   "metadata": {},
   "source": [
    "# NEURON tutorial Part 2: morphologically detailed model and synapses\n",
    "\n",
    "____\n",
    "Authors of this script:\n",
    "\n",
    "Elisabetta Iavarone @ Blue Brain Project\n",
    "\n",
    "Werner Van Geit @ Blue Brain Project\n",
    "\n",
    "Eilif Muller @ Blue Brain Project\n",
    "____\n",
    "\n",
    "Now that we have learned the basics on neuron compartments, mechanisms and simulations, let's move on something slightly more complex: a morphologically detailed models with synapses.\n",
    "\n",
    "The morphology and mechanisms used in this notebook are taken from this [BluePyOpt optimisation example](https://github.com/BlueBrain/BluePyOpt/tree/master/examples/l5pc)\n",
    "\n",
    "\n",
    "We will use a Layer 5 Pyramidal neuron from the rat somatosensory cortex. Let's first visualise it by using [NeuroM](https://github.com/BlueBrain/NeuroM). We can see in purple the apical dendrites, in red the basal dendrites and in blue the axon."
   ]
  },
  {
   "cell_type": "code",
   "execution_count": 2,
   "metadata": {},
   "outputs": [
    {
     "data": {
      "image/png": "[encoded data removed]",
      "text/plain": [
       "<matplotlib.figure.Figure at 0x7fa4908a3fd0>"
      ]
     },
     "metadata": {},
     "output_type": "display_data"
    }
   ],
   "source": [
    "% matplotlib inline\n",
    "import neurom\n",
    "import neurom.viewer\n",
    "import neuron\n",
    "\n",
    "# Load external files\n",
    "neuron.h.load_file(\"stdrun.hoc\");\n",
    "\n",
    "fig = neurom.viewer.draw(neurom.load_neuron('morphology/C060114A7.asc'));"
   ]
  },
  {
   "cell_type": "markdown",
   "metadata": {},
   "source": [
    "To make sure we start from a clean state, we re-initialise the simulator"
   ]
  },
  {
   "cell_type": "code",
   "execution_count": 3,
   "metadata": {
    "collapsed": true
   },
   "outputs": [],
   "source": [
    "neuron.h.stdinit();"
   ]
  },
  {
   "cell_type": "markdown",
   "metadata": {},
   "source": [
    "NEURON has functionality to load 3D morphologies, from different file formats, such as .swc or Neurolucida .asc. Let's load in NEURON the .asc file we've just visualised."
   ]
  },
  {
   "cell_type": "code",
   "execution_count": 4,
   "metadata": {
    "collapsed": true
   },
   "outputs": [],
   "source": [
    "# Load NEURON functionality to load 3D morphologies\n",
    "neuron.h.load_file('import3d.hoc')\n",
    "\n",
    "# Load NEURON functionality to open Neurolucida .asc\n",
    "nl = neuron.h.Import3d_Neurolucida3()\n",
    "nl.input('morphology/C060114A7.asc')\n",
    "morphology_importer = neuron.h.Import3d_GUI(nl, 0)\n",
    "morphology_importer.instantiate(None);"
   ]
  },
  {
   "cell_type": "code",
   "execution_count": 5,
   "metadata": {
    "collapsed": true
   },
   "outputs": [],
   "source": [
    "# If you know uncomment this line you'll see a much more complex\n",
    "#neuron.h.topology();"
   ]
  },
  {
   "cell_type": "markdown",
   "metadata": {},
   "source": [
    "## Accessing morphological sections in Python"
   ]
  },
  {
   "cell_type": "markdown",
   "metadata": {},
   "source": [
    "We can group all the morphology sections in Python lists for easier access."
   ]
  },
  {
   "cell_type": "code",
   "execution_count": 6,
   "metadata": {},
   "outputs": [
    {
     "name": "stdout",
     "output_type": "stream",
     "text": [
      "The morphology has 1 somatic, 66 basal, 130 apical, 128 axonal sections.\n",
      "The total number of sections is: 325\n"
     ]
    }
   ],
   "source": [
    "somatic = []\n",
    "apical = []\n",
    "basal = []\n",
    "axonal = []\n",
    "all_sec = []\n",
    "\n",
    "for sec in neuron.h.allsec():\n",
    "    if 'soma' in sec.name():\n",
    "        somatic.append(sec)\n",
    "    if 'apic' in sec.name():\n",
    "        apical.append(sec)\n",
    "    if 'dend' in sec.name():\n",
    "        basal.append(sec)\n",
    "    if 'axon' in sec.name():\n",
    "        axonal.append(sec)\n",
    "    all_sec.append(sec)\n",
    "    \n",
    "print \"The morphology has {} somatic, {} basal, {} apical, {} axonal sections.\".format(len(somatic), \n",
    "                                                            len(basal), len(apical), len(axonal))\n",
    "print \"The total number of sections is: {}\".format(len(all_sec))"
   ]
  },
  {
   "cell_type": "markdown",
   "metadata": {},
   "source": [
    "Now we can easily access the sections and insert mechanisms. We will add Na$^+$ and K$^+$ from the HH mechanism in the soma and axon and we will make the dendrites passive. "
   ]
  },
  {
   "cell_type": "code",
   "execution_count": 7,
   "metadata": {
    "collapsed": true
   },
   "outputs": [],
   "source": [
    "# Let's set nseg in order to have chunks of section long 40 μm\n",
    "for sec in all_sec:\n",
    "    sec.nseg = 1 + 2 * int(sec.L / 40)\n",
    "    \n",
    "for sec in all_sec:\n",
    "    sec.insert('hh')\n",
    "    sec.Ra = 100\n",
    "    sec.cm = 1\n",
    "    sec.el_hh = -70\n",
    "    sec.gkbar_hh = 0.0\n",
    "    sec.gnabar_hh = 0.0\n",
    "    \n",
    "for sec in somatic:\n",
    "    sec.gkbar_hh = 0.01 # in S/cm^2\n",
    "    sec.gnabar_hh = 0.2 # in S/cm^2\n",
    "    \n",
    "for sec in axonal:\n",
    "    sec.el_hh = -70\n",
    "    sec.gkbar_hh = 0.01 # in S/cm^2\n",
    "    sec.gnabar_hh = 0.25 # in S/cm^2"
   ]
  },
  {
   "cell_type": "markdown",
   "metadata": {},
   "source": [
    "## Display membrane potential distribution in different sections"
   ]
  },
  {
   "cell_type": "markdown",
   "metadata": {},
   "source": [
    "NEURON has also a graphical user interface (GUI). Let's import it now and use it explore our model."
   ]
  },
  {
   "cell_type": "code",
   "execution_count": 9,
   "metadata": {
    "collapsed": true
   },
   "outputs": [],
   "source": [
    "from neuron import gui\n",
    "\n",
    "# We can plot the morphology and the membrane potential from the GUI\n",
    "#myshape = neuron.h.PlotShape()\n",
    "\n",
    "#myshape.exec_menu(\"Shape Plot\")  # Set shape plot to visualise the voltage\n",
    "#myshape.exec_menu(\"Show Diam\")   # Set shape plot appearance\n",
    "#myshape.exec_menu(\"View = plot\");"
   ]
  },
  {
   "cell_type": "markdown",
   "metadata": {},
   "source": [
    "We can now apply a somatic current injection, similar to what we have seen before."
   ]
  },
  {
   "cell_type": "code",
   "execution_count": 10,
   "metadata": {},
   "outputs": [
    {
     "data": {
      "image/png": "[encoded data removed]",
      "text/plain": [
       "<matplotlib.figure.Figure at 0x7fa490bcf2d0>"
      ]
     },
     "metadata": {},
     "output_type": "display_data"
    }
   ],
   "source": [
    "# Define the current protocol\n",
    "iclamp = neuron.h.IClamp(.5, sec=somatic[0])\n",
    "iclamp.amp = 0.5 # nA\n",
    "iclamp.delay = 10 # ms\n",
    "iclamp.dur = 200 # ms\n",
    "\n",
    "def plot_time_voltage(time_array, voltage_array, show=True, label=None, constants=[]):\n",
    "    import matplotlib.pyplot as plt\n",
    "    import numpy\n",
    "    plt.plot(time_array, voltage_array, label=label)\n",
    "    for constant in constants:\n",
    "        plt.plot(time_array, constant*numpy.ones(len(time_array)))\n",
    "    plt.xlabel('Time (ms)')\n",
    "    plt.ylabel('Membrane voltage (mV)')\n",
    "    if show:\n",
    "        plt.show()\n",
    "        \n",
    "neuron.h.tstop = 300\n",
    "\n",
    "# Initialise arrays\n",
    "time = neuron.h.Vector()\n",
    "voltage = neuron.h.Vector()\n",
    "\n",
    "# Define variable to record\n",
    "time.record(neuron.h._ref_t)\n",
    "voltage.record(somatic[0](.5)._ref_v);\n",
    "\n",
    "# Define membrane potential at time 0\n",
    "neuron.h.v_init = -70\n",
    "\n",
    "neuron.h.run()\n",
    "\n",
    "plot_time_voltage(time,voltage)"
   ]
  },
  {
   "cell_type": "markdown",
   "metadata": {},
   "source": [
    "## Addying synapses"
   ]
  },
  {
   "cell_type": "markdown",
   "metadata": {},
   "source": [
    "When we want our model to receive inputs from other neurons, we need to add chemical synapses. NEURON has some built-in synapses types. For example we can use the ExpSyn process. It consists of synapse with a single exponential decay of his conductance. The current generated by this synapse is:\n",
    "$$I_{syn} = g_{syn}(V_{m} - E_{syn})$$\n",
    "\n",
    "where:\n",
    "$$\\frac{dg_{syn}}{dt} = \\frac{g_{syn}}{\\tau} $$\n",
    "\n",
    "$\\tau$ is the time constant of the decay.\n",
    "\n",
    "Every time an event arrives at the synapse, the conductance of the synapse is increased by its weight $w$ (in μS).\n",
    "\n",
    "$$g_{syn} = g_{syn} + w $$"
   ]
  },
  {
   "cell_type": "markdown",
   "metadata": {},
   "source": [
    "Let's add such synapses to the middle of each basal sections"
   ]
  },
  {
   "cell_type": "code",
   "execution_count": 11,
   "metadata": {
    "collapsed": true
   },
   "outputs": [],
   "source": [
    "# Initialise a list to contain all the synapses\n",
    "basal_syn = []\n",
    "for basal_sec in basal:\n",
    "    expsyn = neuron.h.ExpSyn(0.5, sec=basal_sec)\n",
    "    basal_syn.append(expsyn)"
   ]
  },
  {
   "cell_type": "markdown",
   "metadata": {},
   "source": [
    "To stimulate the synapse we create a NetStim object. It plays the role of a spike train from a presynaptic cell. The attributes of this object specify how many presynaptic spikes, with which interval and when we want to start. The noise attribute determines the stochasticity of the process, 0 means completely regular firing."
   ]
  },
  {
   "cell_type": "code",
   "execution_count": 12,
   "metadata": {
    "collapsed": true
   },
   "outputs": [],
   "source": [
    "netstim = neuron.h.NetStim()\n",
    "netstim.interval = 5\n",
    "netstim.number = 5\n",
    "netstim.start = 20\n",
    "netstim.noise = 0"
   ]
  },
  {
   "cell_type": "markdown",
   "metadata": {},
   "source": [
    "This NetStim needs to be connected to the synapses. A NetCon object acts as the connector.\n"
   ]
  },
  {
   "cell_type": "code",
   "execution_count": 13,
   "metadata": {
    "collapsed": true
   },
   "outputs": [],
   "source": [
    "netcons = []\n",
    "for syn in basal_syn:\n",
    "    netcon = neuron.h.NetCon(netstim, expsyn)\n",
    "    netcon.weight[0] = 0.2\n",
    "    netcons.append(netcon)\n",
    "    "
   ]
  },
  {
   "cell_type": "markdown",
   "metadata": {},
   "source": [
    "And now we can run a simulation"
   ]
  },
  {
   "cell_type": "code",
   "execution_count": 14,
   "metadata": {},
   "outputs": [
    {
     "data": {
      "image/png": "[encoded data removed]",
      "text/plain": [
       "<matplotlib.figure.Figure at 0x7fa490e59790>"
      ]
     },
     "metadata": {},
     "output_type": "display_data"
    }
   ],
   "source": [
    "# Don't inject curren in the soma\n",
    "iclamp.amp = 0\n",
    "\n",
    "neuron.h.v_init = -70\n",
    "neuron.h.tstop = 80\n",
    "neuron.h.run()\n",
    "\n",
    "plot_time_voltage(time, voltage)"
   ]
  },
  {
   "cell_type": "code",
   "execution_count": null,
   "metadata": {
    "collapsed": true
   },
   "outputs": [],
   "source": []
  }
 ],
 "metadata": {
  "kernelspec": {
   "display_name": "Python 2",
   "language": "python",
   "name": "python2"
  },
  "language_info": {
   "codemirror_mode": {
    "name": "ipython",
    "version": 2
   },
   "file_extension": ".py",
   "mimetype": "text/x-python",
   "name": "python",
   "nbconvert_exporter": "python",
   "pygments_lexer": "ipython2",
   "version": "2.7.12"
  }
 },
 "nbformat": 4,
 "nbformat_minor": 2
}
