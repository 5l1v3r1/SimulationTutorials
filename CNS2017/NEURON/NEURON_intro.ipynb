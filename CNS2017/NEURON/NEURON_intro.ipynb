{
 "cells": [
  {
   "cell_type": "markdown",
   "metadata": {},
   "source": [
    "# NEURON Tutorial - Introduction\n",
    "\n",
    "____\n",
    "Authors of this script:\n",
    "\n",
    "Elisabetta Iavarone @ Blue Brain Project\n",
    "\n",
    "Werner Van Geit @ Blue Brain Project\n",
    "\n",
    "Eilif Muller @ Blue Brain Project\n",
    "____"
   ]
  },
  {
   "cell_type": "markdown",
   "metadata": {},
   "source": [
    "## Introduction\n",
    "\n",
    "In this notebook we will see some the main functionalities of the NEURON simulator.\n",
    "We will see how to:\n",
    "* Build a single compartment neuron model\n",
    "* Add membrane mechanisms (such as ion currents)\n",
    "* Create stimuli and run simulations\n",
    "* Extend a single comparment model with dendrites\n",
    "\n",
    "You can find part of this notebook in [this repository](https://github.com/BlueBrain/MOOC-neurons-and-synapses-2017). It supports the [Massive Open Online Course (MOOC) Simulation Neuroscience - reconstruction of a single neuron](https://actu.epfl.ch/news/mooc-simulation-neuroscience-reconstruction-of-a-s/).\n",
    "\n"
   ]
  },
  {
   "cell_type": "code",
   "execution_count": 2,
   "metadata": {
    "collapsed": false
   },
   "outputs": [],
   "source": [
    "# Show matplotlib plots inline\n",
    "%matplotlib inline\n",
    "\n",
    "# Import the Python NEURON module\n",
    "# You can see the effect of this call in your terminal window\n",
    "import neuron\n",
    "\n",
    "# Load external files\n",
    "neuron.h.load_file(\"stdrun.hoc\");"
   ]
  },
  {
   "cell_type": "markdown",
   "metadata": {},
   "source": [
    "## Construction a single compartment\n",
    "\n",
    "The building blocks of a cell in NEURON are cylinders (called **segments** or **compartments**). Different segments between branch points are grouped together in a **section**.\n",
    "\n",
    "Let's by creating a single somatic section, i.e. a Python object representing a section."
   ]
  },
  {
   "cell_type": "code",
   "execution_count": 3,
   "metadata": {
    "collapsed": false
   },
   "outputs": [
    {
     "name": "stdout",
     "output_type": "stream",
     "text": [
      "<nrn.Section object at 0x10f860300>\n"
     ]
    }
   ],
   "source": [
    "soma = neuron.h.Section(name='soma') # Specifying a name is not mandatory\n",
    "print soma"
   ]
  },
  {
   "cell_type": "markdown",
   "metadata": {},
   "source": [
    "This object has some attributes attached to it."
   ]
  },
  {
   "cell_type": "code",
   "execution_count": 4,
   "metadata": {
    "collapsed": false
   },
   "outputs": [
    {
     "name": "stdout",
     "output_type": "stream",
     "text": [
      "['L', 'Ra', '__call__', '__class__', '__delattr__', '__doc__', '__eq__', '__format__', '__ge__', '__getattribute__', '__gt__', '__hash__', '__init__', '__iter__', '__le__', '__lt__', '__ne__', '__new__', '__reduce__', '__reduce_ex__', '__repr__', '__setattr__', '__sizeof__', '__str__', '__subclasshook__', 'allseg', 'cell', 'children', 'connect', 'hname', 'hoc_internal_name', 'insert', 'name', 'nseg', 'orientation', 'parentseg', 'push', 'rallbranch', 'same', 'trueparentseg']\n"
     ]
    }
   ],
   "source": [
    "print dir(soma)"
   ]
  },
  {
   "cell_type": "markdown",
   "metadata": {},
   "source": [
    "For example, a NEURON section has some default values:\n",
    "* For the shape: section length ($L$), diameter ($diam$), number of segments ($nseg$) \n",
    "* Electical properties: specific axial resistance ($R_a$) and specific capacitance ($C_m$)\n",
    "\n",
    "We can access and change these defaults.\n",
    "\n",
    "Also, it's important to know the [units](https://www.neuron.yale.edu/neuron/static/docs/units/unitchart.html) NEURON uses as default.     "
   ]
  },
  {
   "cell_type": "code",
   "execution_count": 4,
   "metadata": {
    "collapsed": false
   },
   "outputs": [
    {
     "name": "stdout",
     "output_type": "stream",
     "text": [
      "Soma lenght is 100.0 μm\n",
      "Soma diameter is 500.0 μm\n",
      "Soma has 1 segment\n",
      "Soma axial resistance is 35.4 Ωcm\n",
      "Soma axial resistance is 1.0 μF/cm^2\n",
      "\n",
      "Now soma length is 60.0 μm and its diameter is 60.0 μm\n"
     ]
    }
   ],
   "source": [
    "print r\"Soma lenght is {} μm\".format(soma.L)\n",
    "print r\"Soma diameter is {} μm\".format(soma.diam)\n",
    "print r\"Soma has {} segment\".format(soma.nseg)\n",
    "print r\"Soma axial resistance is {} Ωcm\".format(soma.Ra)\n",
    "print r\"Soma axial resistance is {} μF/cm^2\".format(soma.cm)\n",
    "\n",
    "soma.L = soma.diam = 60\n",
    "print \"\\nNow soma length is {} μm and its diameter is {} μm\".format(soma.L, soma.diam) "
   ]
  },
  {
   "cell_type": "markdown",
   "metadata": {},
   "source": [
    "## Adding membrane mechanisms\n",
    "\n",
    "NEURON has a built-in Hodgkin and Huxley  mechanism, consisting of two active (i.e. voltage-dependent) currents (sodium and potassium, $I_{Na}$ and $I_{K}$) and a passive one (i.e. voltage-indipendent), which is the leak current ($I_{leak}$). These are the currents described in the [Hodgkin and Huxley (HH) model](https://en.wikipedia.org/wiki/Hodgkin%E2%80%93Huxley_model). The HH mechanism is one example of the so-called **distributed mechanisms** in NEURON, i.e. mechanisms that can be inserted in a section.\n",
    "\n",
    "Now we are going to add just the leak current, thus we'll set Na$^+$ and K$^+$ to 0 $S/cm{^2}$. \n",
    "\n"
   ]
  },
  {
   "cell_type": "code",
   "execution_count": 5,
   "metadata": {
    "collapsed": true
   },
   "outputs": [],
   "source": [
    "soma.insert(\"hh\");\n",
    "soma.gkbar_hh = 0.0 # S/cm^2\n",
    "soma.gnabar_hh = 0.0 # S/cm^2\n",
    "soma.el_hh = -70 # mV"
   ]
  },
  {
   "cell_type": "markdown",
   "metadata": {},
   "source": [
    "In this condition, our section will behave as a RC circuit: the membrane resistance $R_m$ is the inverse of our leak conductance ($g_{leak}$): \n",
    "\n",
    "$$ R_m = 1 / g_{leak}$$ \n",
    "\n",
    "The membrane capacitance $C$ is the specific capacitance we have seen above multiplied by the section surface area ($S_{soma}$):\n",
    "\n",
    "$$C=C_m S_{soma}$$\n",
    "\n",
    "Let's see how to charge our membrane capacitance."
   ]
  },
  {
   "cell_type": "markdown",
   "metadata": {},
   "source": [
    "## Injecting a current and running a simulation"
   ]
  },
  {
   "cell_type": "markdown",
   "metadata": {},
   "source": [
    "We now stick a virtual electrode in the soma to simulate a [current-clamp](http://vlab.amrita.edu/?sub=3&brch=43&sim=132&cnt=1) protocol. Electrodes are example of NEURON **point processes**, i.e. mechanisms that are associates with a specific location in a section. Other examples of points processes are synapses.\n",
    "\n",
    "To define a current-clamp, we need to specify a location, duration (in ms), amplitude (in nA) and a delay (in ms) for the current injection. "
   ]
  },
  {
   "cell_type": "code",
   "execution_count": 6,
   "metadata": {
    "collapsed": false
   },
   "outputs": [],
   "source": [
    "iclamp = neuron.h.IClamp(.5, sec=soma)\n",
    "iclamp.amp = 0.0 # nA\n",
    "iclamp.delay = 10 # ms\n",
    "iclamp.dur = 50 # ms"
   ]
  },
  {
   "cell_type": "markdown",
   "metadata": {},
   "source": [
    "Let's now run a simulation. We will record the membrane potential in the middle of the soma, which is the same position where we inserted the current-clamp electrode.\n",
    "To compute the membrane potential in a point, NEURON will integrate the following equation at each time step, where $I_{inj}$ in the injected current and $E_{leak}$ in the [reversal potential](https://en.wikipedia.org/wiki/Reversal_potential) of the leak current:\n",
    "\n",
    "$$C_m \\frac{dV}{dt} = - g_{leak} (V-E_{leak}) + I_{inj}$$ \n",
    "\n",
    "Let's set-up the simulation, the integration step and arrays to record the membrane potential. We also define a function to plot the results."
   ]
  },
  {
   "cell_type": "code",
   "execution_count": 7,
   "metadata": {
    "collapsed": false
   },
   "outputs": [
    {
     "name": "stdout",
     "output_type": "stream",
     "text": [
      "Integration time step: 0.025000 ms\n"
     ]
    },
    {
     "data": {
      "image/png": "[encoded data removed]",
      "text/plain": [
       "<matplotlib.figure.Figure at 0x10f921610>"
      ]
     },
     "metadata": {},
     "output_type": "display_data"
    }
   ],
   "source": [
    "\n",
    "neuron.h.tstop = 100\n",
    "print \"Integration time step: %f ms\" % neuron.h.dt\n",
    "\n",
    "# Initialise arrays\n",
    "time = neuron.h.Vector()\n",
    "voltage = neuron.h.Vector()\n",
    "\n",
    "# Define variable to record\n",
    "time.record(neuron.h._ref_t)\n",
    "voltage.record(soma(.5)._ref_v);\n",
    "\n",
    "# Define membrane potential at time 0\n",
    "neuron.h.v_init = -70\n",
    "\n",
    "neuron.h.run()\n",
    "\n",
    "def plot_time_voltage(time_array, voltage_array, show=True, label=None, constants=[]):\n",
    "    import matplotlib.pyplot as plt\n",
    "    import numpy\n",
    "    plt.plot(time_array, voltage_array, label=label)\n",
    "    for constant in constants:\n",
    "        plt.plot(time_array, constant*numpy.ones(len(time_array)))\n",
    "    plt.xlabel('Time (ms)')\n",
    "    plt.ylabel('Membrane voltage (mV)')\n",
    "    if show:\n",
    "        plt.show()\n",
    "\n",
    "plot_time_voltage(time, voltage)"
   ]
  },
  {
   "cell_type": "markdown",
   "metadata": {},
   "source": [
    "We see that the membrane potential starts from $-$70 mV, as we set with the *v_init* variable, it stays constant up to 10 ms (because we set $E_{leak}$ = $-$ 70 mV), it depolarises (i.e. becomes more positive) during the stimulus interval and returns to the resting value of $-$70 mV. The transitions are not instantaneous due to the effect of the membrane capacitance."
   ]
  },
  {
   "cell_type": "markdown",
   "metadata": {},
   "source": [
    "### Exercise 1\n",
    "____\n",
    "\n",
    "Try modify one parameter of the somatic section so that the membrane voltage reaches the steady-state value of ~ $-$ 67 mV faster.\n",
    "\n",
    "To do so, insert a new cell below, define the new value for this parameter, execute the cell and re-run the simulation.\n",
    "___"
   ]
  },
  {
   "cell_type": "markdown",
   "metadata": {},
   "source": [
    "## Adding active channels"
   ]
  },
  {
   "cell_type": "markdown",
   "metadata": {},
   "source": [
    "Now we can add the sodium and potassium channels to the membrane, and the HH membrane equation will be:\n",
    "$$C_m \\frac{dV}{dt} = - [g_{leak} (V-E_{leak}) + \\bar{g}_{Na}m^3(V)h(V)(V-E_{Na}) + \\bar{g}_{K}n^4(V)(V-E_{K})] + I_{inj}$$ \n",
    "\n",
    "Where $\\bar{g}_{Na}$ and $\\bar{g}_{K}$ are parameters that we can specify and they represent the density of channels in the membrane. By setting them to a value different from 0, our model will show action potentials."
   ]
  },
  {
   "cell_type": "code",
   "execution_count": 8,
   "metadata": {
    "collapsed": false
   },
   "outputs": [
    {
     "data": {
      "image/png": "[encoded data removed]",
      "text/plain": [
       "<matplotlib.figure.Figure at 0x10f91c4d0>"
      ]
     },
     "metadata": {},
     "output_type": "display_data"
    }
   ],
   "source": [
    "soma.gkbar_hh = 0.01 # in S/cm^2\n",
    "soma.gnabar_hh = 0.2 # in S/cm^2\n",
    "\n",
    "neuron.h.run()\n",
    "\n",
    "plot_time_voltage(time, voltage)"
   ]
  },
  {
   "cell_type": "markdown",
   "metadata": {},
   "source": [
    "It is also good to keep in mind that NEURON has also default values for simulation temperature. It is important to change this value if you want to model for example to model ion channels in mammals neurons at body temperature."
   ]
  },
  {
   "cell_type": "code",
   "execution_count": 10,
   "metadata": {
    "collapsed": false
   },
   "outputs": [
    {
     "name": "stdout",
     "output_type": "stream",
     "text": [
      "The defaults simulation temperature is 6.3 !\n"
     ]
    }
   ],
   "source": [
    "print r\"The defaults simulation temperature is {} !\".format(neuron.h.celsius)"
   ]
  },
  {
   "cell_type": "markdown",
   "metadata": {},
   "source": [
    "## Extending the model with dendrites\n",
    "\n",
    "We can create additional sections and connect them to the soma. Let's for example add a dendrite."
   ]
  },
  {
   "cell_type": "code",
   "execution_count": 9,
   "metadata": {
    "collapsed": true
   },
   "outputs": [],
   "source": [
    "dend = neuron.h.Section(name='dend')\n",
    "\n",
    "# Connect one end of the dendrite to the soma\n",
    "dend.connect(soma)\n",
    "\n",
    "dend.L = 400 # μm\n",
    "dend.diam = 2 # μm\n",
    "dend.nseg = 9 # number of segments in the dendritic section"
   ]
  },
  {
   "cell_type": "markdown",
   "metadata": {},
   "source": [
    "If you execute the following cell you'll see a schematic version of our model. The output will be printed in your terminal and will appear like that:\n",
    "\n",
    "|-|       soma(0-1)\n",
    "  \n",
    "    `--------|       dend(0-1)\n",
    "\n",
    "As you may have already understood, locations along section are expressed as normalised values between 0 and 1."
   ]
  },
  {
   "cell_type": "code",
   "execution_count": 56,
   "metadata": {
    "collapsed": true
   },
   "outputs": [],
   "source": [
    "neuron.h.topology(); "
   ]
  },
  {
   "cell_type": "markdown",
   "metadata": {},
   "source": [
    "We can add another dendritic section. This time we will specify to which end we want to connect the new section."
   ]
  },
  {
   "cell_type": "code",
   "execution_count": 10,
   "metadata": {
    "collapsed": true
   },
   "outputs": [],
   "source": [
    "dend2 = neuron.h.Section(name='dend2')\n",
    "\n",
    "# Connect the 0 end of dend2 to the 0 end of dend\n",
    "dend2.connect(dend,0,0)\n",
    "\n",
    "dend2.L = 400 # μm\n",
    "dend2.diam = 2.0 # μm\n",
    "dend2.nseg = 9 # number of segments in the dendritic section\n",
    "\n",
    "neuron.h.topology();"
   ]
  },
  {
   "cell_type": "markdown",
   "metadata": {},
   "source": [
    "Now our model will look like this:\n",
    "\n",
    "|-|      soma(0-1)\n",
    "   \n",
    "    `--------|       dend(0-1)\n",
    "  \n",
    "    `------|       dend2(0-1)\n"
   ]
  },
  {
   "cell_type": "markdown",
   "metadata": {},
   "source": [
    "### Voltage attenuation along the dendrite\n",
    "\n",
    "We add the HH mechanism to the dendrites, but we will make them passive."
   ]
  },
  {
   "cell_type": "code",
   "execution_count": 54,
   "metadata": {
    "collapsed": true
   },
   "outputs": [],
   "source": [
    "for sec in [dend, dend2]:\n",
    "    sec.insert('hh')\n",
    "    sec.el_hh = -70 # Reversal potential leak current, mV\n",
    "    sec.gl_hh = 1e-4 # Leak conductance, S/cm^2\n",
    "    sec.Ra = 100\n",
    "    sec.gkbar_hh = 0.0\n",
    "    sec.gnabar_hh = 0.0\n",
    "    \n",
    "iclamp = neuron.h.IClamp(.3, sec=dend)\n",
    "iclamp.amp = 0.01 # nA\n",
    "iclamp.delay = 10 # ms\n",
    "iclamp.dur = 50 # ms"
   ]
  },
  {
   "cell_type": "markdown",
   "metadata": {},
   "source": [
    "Let's verify the desired mechanisms are added to the dendritic sections. If you execute the following cell, you can see this in your terminal:"
   ]
  },
  {
   "cell_type": "code",
   "execution_count": 52,
   "metadata": {
    "collapsed": false
   },
   "outputs": [
    {
     "data": {
      "text/plain": [
       "1.0"
      ]
     },
     "execution_count": 52,
     "metadata": {},
     "output_type": "execute_result"
    }
   ],
   "source": [
    "neuron.h.psection(sec=dend)"
   ]
  },
  {
   "cell_type": "markdown",
   "metadata": {},
   "source": [
    "dend { nseg=9  L=200  Ra=100\n",
    "\n",
    "\tsoma connect dend (0), 1    \n",
    "\t/* First segment only */    \n",
    "\tinsert capacitance { cm=1}    \n",
    "\tinsert morphology { diam=2}    \n",
    "\tinsert hh { gnabar_hh=0 gkbar_hh=0 gl_hh=0.0005 el_hh=-70}    \n",
    "\tinsert na_ion { ena=50}    \n",
    "\tinsert k_ion { ek=-77}    \n",
    "}\n"
   ]
  },
  {
   "cell_type": "code",
   "execution_count": 53,
   "metadata": {
    "collapsed": false,
    "scrolled": false
   },
   "outputs": [
    {
     "data": {
      "image/png": "[encoded data removed]",
      "text/plain": [
       "<matplotlib.figure.Figure at 0x110e82150>"
      ]
     },
     "metadata": {},
     "output_type": "display_data"
    },
    {
     "data": {
      "image/png": "[encoded data removed]",
      "text/plain": [
       "<matplotlib.figure.Figure at 0x11081d450>"
      ]
     },
     "metadata": {},
     "output_type": "display_data"
    }
   ],
   "source": [
    "import matplotlib.pyplot as plt\n",
    "import numpy\n",
    "\n",
    "voltage_dend = {}\n",
    "\n",
    "# Span the range of dendritic locations of one of dendrites\n",
    "distance_range = numpy.arange(0, 1.1, 0.1)\n",
    "for distance in distance_range:\n",
    "    voltage_dend[distance] = neuron.h.Vector()\n",
    "    voltage_dend[distance].record(dend(distance)._ref_v);\n",
    "\n",
    "neuron.h.v_init = -70    \n",
    "neuron.h.tstop = 40\n",
    "neuron.h.run()\n",
    "plt.figure()\n",
    "for distance in distance_range:\n",
    "    plot_time_voltage(time, voltage_dend[distance], show=False, label='%.0f%% of dend length' % (distance*100))\n",
    "    \n",
    "plt.legend()\n",
    "plt.show()\n",
    "\n",
    "max_voltage_dend = []\n",
    "for distance in distance_range:\n",
    "    max_voltage_dend.append(max(voltage_dend[distance]))\n",
    "    \n",
    "plt.figure()\n",
    "plt.plot(distance_range*100, max_voltage_dend, 'o')\n",
    "plt.xlabel('percentage of dend length')\n",
    "plt.ylabel('Max voltage (mV)')\n",
    "plt.show()"
   ]
  },
  {
   "cell_type": "markdown",
   "metadata": {
    "collapsed": true
   },
   "source": [
    "### Exercise 2\n",
    "___\n",
    "Actually, if we look at the graphs above, the action potential in the dendrite doesn't seem to be very strong: at the end of dendrite (100 % of dend length) the action potential is still visible and its peak is around 0 mV. Can you find at least two parameters that will make the dendritic attenuation more pronounced? Test your hypothesis by changing these parameters and re-running the cell above.\n",
    "___"
   ]
  },
  {
   "cell_type": "code",
   "execution_count": null,
   "metadata": {
    "collapsed": true
   },
   "outputs": [],
   "source": []
  }
 ],
 "metadata": {
  "kernelspec": {
   "display_name": "Python 2",
   "language": "python",
   "name": "python2"
  },
  "language_info": {
   "codemirror_mode": {
    "name": "ipython",
    "version": 2
   },
   "file_extension": ".py",
   "mimetype": "text/x-python",
   "name": "python",
   "nbconvert_exporter": "python",
   "pygments_lexer": "ipython2",
   "version": "2.7.10"
  }
 },
 "nbformat": 4,
 "nbformat_minor": 2
}
