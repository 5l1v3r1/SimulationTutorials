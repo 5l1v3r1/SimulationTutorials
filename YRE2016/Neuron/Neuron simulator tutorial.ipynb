{
 "cells": [
  {
   "cell_type": "markdown",
   "metadata": {},
   "source": [
    "# Neuron simulator tutorial\n",
    "\n",
    "Contributors: Elisabetta Iavarone, Werner Van Geit, Bruno Magalhaes, Francesco Cremonesi @ Blue Brain Project, EPFL, Switzerland"
   ]
  },
  {
   "cell_type": "markdown",
   "metadata": {},
   "source": [
    "NEURON was original developed with a scripting language called \"hoc\". It is still widely used and only recently it is being replaced with a Python interface [(Hines et al., 2009)](http://journal.frontiersin.org/article/10.3389/neuro.11.001.2009/abstract). All NEURON routines are written in either C/C++ or hoc.\n",
    "NEURON features also a Graphical User Interface (GUI), equipped with builders for cells and networks, channels and electrical circuits. Feel free to explore the NEURON GUI, but here we prefer writing some lines of Python code.\n",
    "___\n",
    "In this tutorial we will see how to use a small number of NEURON functions, while you can find further information on NEURON modeling concepts and programming-related terms in the [programmer's reference](http://www.neuron.yale.edu/neuron/static/new_doc/index.html).\n",
    "____"
   ]
  },
  {
   "cell_type": "markdown",
   "metadata": {},
   "source": [
    "First we need **import** the Neuron simulator in Python."
   ]
  },
  {
   "cell_type": "code",
   "execution_count": 18,
   "metadata": {
    "collapsed": false
   },
   "outputs": [],
   "source": [
    "import neuron"
   ]
  },
  {
   "cell_type": "markdown",
   "metadata": {},
   "source": [
    "This will give us the ability to interact with the simulator. Most of the code we use will access the Neuron **HocObject**, accessible through *neuron.h*\n",
    "\n",
    "For example, to get the **temperature** the simulation will be performed in:"
   ]
  },
  {
   "cell_type": "code",
   "execution_count": 19,
   "metadata": {
    "collapsed": false
   },
   "outputs": [
    {
     "name": "stdout",
     "output_type": "stream",
     "text": [
      "6.3\n"
     ]
    }
   ],
   "source": [
    "print neuron.h.celsius"
   ]
  },
  {
   "cell_type": "markdown",
   "metadata": {},
   "source": [
    "As you can see, the **default temperature** the Neuron simulator is running in is **6.3C**. \n",
    "This is the temperature in which Hodgkin and Huxley performed their original voltage clamp experiments.\n",
    "\n",
    "(So always remember to set the simulator to the correct temperature when building your own model !)"
   ]
  },
  {
   "cell_type": "markdown",
   "metadata": {},
   "source": [
    "## Creating a single compartment"
   ]
  },
  {
   "cell_type": "markdown",
   "metadata": {},
   "source": [
    "In NEURON a cell is represented as a tree of connected **sections**. A section is a portion of cell with homogeneous biophysical properties. \n",
    "In the simplest approximation, a section is a cilinder with some properties: lengh *L* (in ${\\mu}m$), diameter *diam* (in ${\\mu}m$), cytoplasmic resistance *Ra* (in $ohm*cm$), membrane capacity (in ${\\mu}F/cm^2$), channels density.\n",
    "A **segment** (or compartment), *seg*, is the simplest unit of discretization of a section. It is a numerical entity, that defines the spatial discretizion ${\\delta}x = L / nseg$."
   ]
  },
  {
   "cell_type": "code",
   "execution_count": 29,
   "metadata": {
    "collapsed": false
   },
   "outputs": [
    {
     "name": "stdout",
     "output_type": "stream",
     "text": [
      "<nrn.Section object at 0x103396328>\n"
     ]
    }
   ],
   "source": [
    "soma = neuron.h.Section()\n",
    "print soma"
   ]
  },
  {
   "cell_type": "markdown",
   "metadata": {},
   "source": [
    "*soma* is now a python object that as certain fields attached to it:"
   ]
  },
  {
   "cell_type": "code",
   "execution_count": 30,
   "metadata": {
    "collapsed": false
   },
   "outputs": [
    {
     "data": {
      "text/plain": [
       "['L',\n",
       " 'Ra',\n",
       " '__call__',\n",
       " '__class__',\n",
       " '__delattr__',\n",
       " '__doc__',\n",
       " '__eq__',\n",
       " '__format__',\n",
       " '__ge__',\n",
       " '__getattribute__',\n",
       " '__gt__',\n",
       " '__hash__',\n",
       " '__init__',\n",
       " '__iter__',\n",
       " '__le__',\n",
       " '__lt__',\n",
       " '__ne__',\n",
       " '__new__',\n",
       " '__reduce__',\n",
       " '__reduce_ex__',\n",
       " '__repr__',\n",
       " '__setattr__',\n",
       " '__sizeof__',\n",
       " '__str__',\n",
       " '__subclasshook__',\n",
       " 'allseg',\n",
       " 'cell',\n",
       " 'children',\n",
       " 'connect',\n",
       " 'hname',\n",
       " 'hoc_internal_name',\n",
       " 'insert',\n",
       " 'name',\n",
       " 'nseg',\n",
       " 'orientation',\n",
       " 'parentseg',\n",
       " 'push',\n",
       " 'rallbranch',\n",
       " 'same',\n",
       " 'trueparentseg']"
      ]
     },
     "execution_count": 30,
     "metadata": {},
     "output_type": "execute_result"
    }
   ],
   "source": [
    "dir(soma)"
   ]
  },
  {
   "cell_type": "code",
   "execution_count": 22,
   "metadata": {
    "collapsed": false
   },
   "outputs": [
    {
     "name": "stdout",
     "output_type": "stream",
     "text": [
      "100.0\n",
      "500.0\n",
      "-65.0\n",
      "1.0\n"
     ]
    }
   ],
   "source": [
    "print soma.L # in micron\n",
    "print soma.diam # in micron\n",
    "print soma.v # in mV\n",
    "print soma.cm # uf/cm2"
   ]
  },
  {
   "cell_type": "markdown",
   "metadata": {},
   "source": [
    "## Running a simulation"
   ]
  },
  {
   "cell_type": "code",
   "execution_count": 23,
   "metadata": {
    "collapsed": false
   },
   "outputs": [
    {
     "name": "stdout",
     "output_type": "stream",
     "text": [
      "-65.0\n"
     ]
    }
   ],
   "source": [
    "neuron.h.load_file('stdrun.hoc')\n",
    "neuron.h.tstop = 1000\n",
    "neuron.h.run()\n",
    "print soma.v"
   ]
  },
  {
   "cell_type": "markdown",
   "metadata": {},
   "source": [
    "## Inserting mechanisms (ion channels)"
   ]
  },
  {
   "cell_type": "code",
   "execution_count": 24,
   "metadata": {
    "collapsed": false
   },
   "outputs": [
    {
     "data": {
      "text/plain": [
       "<nrn.Section at 0x1048ccbc0>"
      ]
     },
     "execution_count": 24,
     "metadata": {},
     "output_type": "execute_result"
    }
   ],
   "source": [
    "soma.insert('hh')"
   ]
  },
  {
   "cell_type": "markdown",
   "metadata": {},
   "source": [
    "## Connecting compartments"
   ]
  },
  {
   "cell_type": "code",
   "execution_count": 25,
   "metadata": {
    "collapsed": false
   },
   "outputs": [
    {
     "ename": "NameError",
     "evalue": "name 'dend' is not defined",
     "output_type": "error",
     "traceback": [
      "\u001b[0;31m---------------------------------------------------------------------------\u001b[0m",
      "\u001b[0;31mNameError\u001b[0m                                 Traceback (most recent call last)",
      "\u001b[0;32m<ipython-input-25-779ba2d94a6a>\u001b[0m in \u001b[0;36m<module>\u001b[0;34m()\u001b[0m\n\u001b[0;32m----> 1\u001b[0;31m \u001b[0mdend\u001b[0m\u001b[0;34m\u001b[0m\u001b[0m\n\u001b[0m",
      "\u001b[0;31mNameError\u001b[0m: name 'dend' is not defined"
     ]
    }
   ],
   "source": [
    "dend"
   ]
  },
  {
   "cell_type": "markdown",
   "metadata": {},
   "source": [
    "## Attaching a stimulus electrode"
   ]
  },
  {
   "cell_type": "markdown",
   "metadata": {},
   "source": [
    "A stimulation electrode in NEURON is a \"point process\", i.e. an object attached to a precise location along a section. The location is specified as a number from 0 to 1.\n",
    "To set up a current clamp experiment we need to specify its location, *delay* (time from the start of the simulation), *amp* (amplitude of the injected current, in *nA*) and *dur* (duration of stimulus in *ms*)."
   ]
  },
  {
   "cell_type": "code",
   "execution_count": 28,
   "metadata": {
    "collapsed": false
   },
   "outputs": [],
   "source": [
    "# Inject a current step into the soma\n",
    "stim = neuron.h.IClamp(0.5, sec=soma)         # Place a stimulation electrode in the middle of the soma\n",
    "stim.delay = 1\n",
    "stim.amp = 1\n",
    "stim.dur = 3"
   ]
  },
  {
   "cell_type": "markdown",
   "metadata": {},
   "source": [
    "## Attaching a recording electrode"
   ]
  },
  {
   "cell_type": "code",
   "execution_count": null,
   "metadata": {
    "collapsed": true
   },
   "outputs": [],
   "source": [
    "time = neuron.h.Vector()\n",
    "voltage = neuron.h.Vector()\n",
    "\n",
    "time.record(neuron.h._ref_t)\n",
    "voltage.record(soma._ref_v)"
   ]
  },
  {
   "cell_type": "code",
   "execution_count": null,
   "metadata": {
    "collapsed": true
   },
   "outputs": [],
   "source": []
  },
  {
   "cell_type": "markdown",
   "metadata": {},
   "source": [
    "___\n",
    "### Futher interesting resources about NEURON\n",
    "\n",
    "__The NEURON forum__: \n",
    "http://www.neuron.yale.edu/phpBB/\n",
    "\n",
    "__NEURON programmer's reference and documentation__: \n",
    "http://www.neuron.yale.edu/neuron/static/new_doc/index.html\n",
    "\n",
    "__NEURON web page and installation instructions__:\n",
    "http://www.neuron.yale.edu/neuron/\n",
    "\n",
    "__ModelDB: database of existing NEURON models__:\n",
    "https://senselab.med.yale.edu/modeldb/\n",
    "\n",
    "__The NEURON book and other readings__:\n",
    "\n",
    "Nicholas T. Carnevale and Michael L. Hines, \"The NEURON book\". Cambridge University Press, 2006\n",
    "\n",
    "M.L. Hines and N.T. Carnevale. \"Neuron simulation environment\". Encyclopedia of computational neuroscience, Springer, 2014\n"
   ]
  },
  {
   "cell_type": "code",
   "execution_count": null,
   "metadata": {
    "collapsed": true
   },
   "outputs": [],
   "source": []
  }
 ],
 "metadata": {
  "kernelspec": {
   "display_name": "Python 2",
   "language": "python",
   "name": "python2"
  },
  "language_info": {
   "codemirror_mode": {
    "name": "ipython",
    "version": 2
   },
   "file_extension": ".py",
   "mimetype": "text/x-python",
   "name": "python",
   "nbconvert_exporter": "python",
   "pygments_lexer": "ipython2",
   "version": "2.7.11"
  }
 },
 "nbformat": 4,
 "nbformat_minor": 0
}
